{
 "cells": [
  {
   "cell_type": "code",
   "execution_count": 77,
   "metadata": {},
   "outputs": [],
   "source": [
    "# !pip3 install bayesian-optimization"
   ]
  },
  {
   "cell_type": "code",
   "execution_count": 78,
   "metadata": {},
   "outputs": [],
   "source": [
    "import pandas as pd\n",
    "import numpy as np\n",
    "import matplotlib.pyplot as plt\n",
    "import seaborn as sns\n",
    "\n",
    "from imblearn.over_sampling import SMOTE\n",
    "from collections import Counter\n",
    "\n",
    "from sklearn.model_selection import train_test_split\n",
    "from sklearn import metrics as skmetrics\n",
    "from sklearn.ensemble import RandomForestClassifier\n",
    "from sklearn.ensemble import ExtraTreesClassifier\n",
    "\n",
    "from bayes_opt import BayesianOptimization"
   ]
  },
  {
   "cell_type": "code",
   "execution_count": 79,
   "metadata": {},
   "outputs": [],
   "source": [
    "pd.options.display.max_rows = 100\n",
    "pd.options.display.max_columns = 200\n",
    "sns.set(rc={'figure.figsize':(5,10)})\n"
   ]
  },
  {
   "cell_type": "code",
   "execution_count": 80,
   "metadata": {},
   "outputs": [],
   "source": [
    "X_smote = pd.read_csv('data/X_smote.csv')\n",
    "y_smote = pd.read_csv('data/y_smote.csv')\n",
    "\n",
    "X_val = pd.read_csv('data/X_val.csv')\n",
    "y_val = pd.read_csv('data/y_val.csv')\n",
    "\n",
    "X_test = pd.read_csv('data/X_test.csv')\n",
    "y_test = pd.read_csv('data/y_test.csv')"
   ]
  },
  {
   "cell_type": "code",
   "execution_count": 81,
   "metadata": {},
   "outputs": [],
   "source": [
    "def print_statistics(y_actual, y_pred, y_pred_prob, dataset_type):\n",
    "  print(f\"====================={dataset_type}====================\")\n",
    "  print(f\"accuracy: {round(skmetrics.accuracy_score(y_actual, y_pred),5)}\")\n",
    "  print(f\"precision: {round(skmetrics.precision_score(y_actual, y_pred),5)}\")\n",
    "  print(f\"recall: {round(skmetrics.recall_score(y_actual, y_pred),5)}\")\n",
    "  print(f\"f1 score: {round(skmetrics.f1_score(y_actual, y_pred),5)}\")\n",
    "  prec, recall, thresholds = skmetrics.precision_recall_curve(y_actual, y_pred_prob)\n",
    "  print(f'pr auc: {round(skmetrics.auc(recall, prec), 5)}')\n"
   ]
  },
  {
   "cell_type": "markdown",
   "metadata": {},
   "source": [
    "## Random Forest"
   ]
  },
  {
   "cell_type": "code",
   "execution_count": 82,
   "metadata": {},
   "outputs": [
    {
     "name": "stderr",
     "output_type": "stream",
     "text": [
      "/var/folders/nj/qv4q4t0d0yz8924lwlb0b73c0000gn/T/ipykernel_8569/2399065869.py:2: DataConversionWarning: A column-vector y was passed when a 1d array was expected. Please change the shape of y to (n_samples,), for example using ravel().\n",
      "  rf_model = rf.fit(X_smote, y_smote)\n"
     ]
    },
    {
     "name": "stdout",
     "output_type": "stream",
     "text": [
      "=====================train====================\n",
      "accuracy: 1.0\n",
      "precision: 1.0\n",
      "recall: 1.0\n",
      "f1 score: 1.0\n",
      "pr auc: 1.0\n",
      "=====================val====================\n",
      "accuracy: 0.92815\n",
      "precision: 0.91317\n",
      "recall: 0.81105\n",
      "f1 score: 0.85909\n",
      "pr auc: 0.87481\n",
      "=====================test====================\n",
      "accuracy: 0.92051\n",
      "precision: 0.92558\n",
      "recall: 0.76735\n",
      "f1 score: 0.83907\n",
      "pr auc: 0.86478\n"
     ]
    }
   ],
   "source": [
    "rf = RandomForestClassifier()\n",
    "rf_model = rf.fit(X_smote, y_smote)\n",
    "\n",
    "y_pred_train = rf_model.predict(X_smote)\n",
    "y_pred_train_proba = rf_model.predict_proba(X_smote)[:, 1]\n",
    "print_statistics(y_smote, y_pred_train, y_pred_train_proba, 'train')\n",
    "\n",
    "y_pred_val = rf_model.predict(X_val)\n",
    "y_pred_val_proba = rf_model.predict_proba(X_val)[:, 1]\n",
    "print_statistics(y_val, y_pred_val, y_pred_val_proba, 'val')\n",
    "\n",
    "y_pred_test = rf_model.predict(X_test)\n",
    "y_pred_test_proba = rf_model.predict_proba(X_test)[:, 1]\n",
    "print_statistics(y_test, y_pred_test, y_pred_test_proba, 'test')"
   ]
  },
  {
   "cell_type": "markdown",
   "metadata": {},
   "source": [
    "## Extra Trees Classifier"
   ]
  },
  {
   "cell_type": "code",
   "execution_count": 83,
   "metadata": {},
   "outputs": [
    {
     "name": "stderr",
     "output_type": "stream",
     "text": [
      "/var/folders/nj/qv4q4t0d0yz8924lwlb0b73c0000gn/T/ipykernel_8569/433721700.py:2: DataConversionWarning: A column-vector y was passed when a 1d array was expected. Please change the shape of y to (n_samples,), for example using ravel().\n",
      "  xtc_model = xtc.fit(X_smote, y_smote)\n"
     ]
    },
    {
     "name": "stdout",
     "output_type": "stream",
     "text": [
      "=====================train====================\n",
      "accuracy: 1.0\n",
      "precision: 1.0\n",
      "recall: 1.0\n",
      "f1 score: 1.0\n",
      "pr auc: 1.0\n",
      "=====================val====================\n",
      "accuracy: 0.91913\n",
      "precision: 0.8955\n",
      "recall: 0.79306\n",
      "f1 score: 0.84117\n",
      "pr auc: 0.86337\n",
      "=====================test====================\n",
      "accuracy: 0.91739\n",
      "precision: 0.91411\n",
      "recall: 0.76607\n",
      "f1 score: 0.83357\n",
      "pr auc: 0.86402\n"
     ]
    }
   ],
   "source": [
    "xtc = ExtraTreesClassifier()\n",
    "xtc_model = xtc.fit(X_smote, y_smote)\n",
    "\n",
    "y_pred_train = xtc_model.predict(X_smote)\n",
    "y_pred_train_proba = xtc_model.predict_proba(X_smote)[:, 1]\n",
    "print_statistics(y_smote, y_pred_train, y_pred_train_proba, 'train')\n",
    "\n",
    "y_pred_val = xtc_model.predict(X_val)\n",
    "y_pred_val_proba = xtc_model.predict_proba(X_val)[:, 1]\n",
    "print_statistics(y_val, y_pred_val, y_pred_val_proba, 'val')\n",
    "\n",
    "y_pred_test = xtc_model.predict(X_test)\n",
    "y_pred_test_proba = xtc_model.predict_proba(X_test)[:, 1]\n",
    "print_statistics(y_test, y_pred_test, y_pred_test_proba, 'test')"
   ]
  },
  {
   "cell_type": "markdown",
   "metadata": {},
   "source": [
    "## Tune the ExtraTrees classifier"
   ]
  },
  {
   "cell_type": "code",
   "execution_count": 84,
   "metadata": {},
   "outputs": [
    {
     "data": {
      "image/png": "[encoded data removed]",
      "text/plain": [
       "<Figure size 360x720 with 1 Axes>"
      ]
     },
     "metadata": {},
     "output_type": "display_data"
    }
   ],
   "source": [
    "feature_names = [f\"{X_smote.columns[i]}\" for i in range(X_smote.shape[1])]\n",
    "\n",
    "importances = xtc_model.feature_importances_\n",
    "\n",
    "forest_importances = pd.DataFrame({'feature': feature_names,\n",
    "                                    'importance': importances}\n",
    "                                    )\n",
    "forest_importances = forest_importances.sort_values('importance', ascending=False)\n",
    "forest_importances = forest_importances[:20] # top 20\n",
    "\n",
    "fig, ax = plt.subplots(1,1)\n",
    "sns.set(rc={'figure.figsize':(10,5)})\n",
    "sns.barplot(y='feature', x='importance', ax=ax, data=forest_importances, orient=\"h\")\n",
    "ax.set_title(\"Top 20 features for ExtraTrees\")\n",
    "ax.set_xlabel(\"Mean decrease in impurity\")\n",
    "ax.set_ylabel(\"Feature\")\n",
    "fig.tight_layout()"
   ]
  },
  {
   "cell_type": "markdown",
   "metadata": {},
   "source": [
    "## Bayesian optimization of ExtraTrees for hyperparameter tuning"
   ]
  },
  {
   "cell_type": "code",
   "execution_count": 85,
   "metadata": {},
   "outputs": [],
   "source": [
    "seed = 1\n",
    "\n",
    "def extratrees(n_estimators,\n",
    "                max_depth,\n",
    "                min_samples_split,\n",
    "                min_samples_leaf,\n",
    "                max_features,\n",
    "                bootstrap):\n",
    "\n",
    "    n_estimators = int(n_estimators)\n",
    "    max_depth = int(max_depth) # Pre-pruning technique\n",
    "    min_samples_split = int(min_samples_split) # Pre-pruning technique\n",
    "    min_samples_leaf = int(min_samples_leaf) # Pre-pruning technique\n",
    "    bootstrap = bootstrap > 0.5\n",
    "    \n",
    "    assert type(n_estimators) == int\n",
    "    assert type(max_depth) == int\n",
    "    assert type(min_samples_split) == int\n",
    "    assert type(min_samples_leaf) == int\n",
    "\n",
    "\n",
    "    xtc = ExtraTreesClassifier(n_estimators=n_estimators,\n",
    "                               max_depth=max_depth,\n",
    "                               min_samples_split=min_samples_split,\n",
    "                               min_samples_leaf=min_samples_leaf,\n",
    "                               max_features=max_features,\n",
    "                               bootstrap=bootstrap,\n",
    "                               oob_score=bootstrap,\n",
    "                               n_jobs=6,\n",
    "                               random_state=seed,\n",
    "                               verbose=0)\n",
    "\n",
    "    xtc_model = xtc.fit(X_smote, y_smote)\n",
    "    # use validation set to evaluate performance - F1 is our main metric\n",
    "    y_pred_val = xtc_model.predict(X_val)\n",
    "    return skmetrics.f1_score(y_val, y_pred_val)"
   ]
  },
  {
   "cell_type": "code",
   "execution_count": 86,
   "metadata": {},
   "outputs": [
    {
     "name": "stdout",
     "output_type": "stream",
     "text": [
      "['bootstrap', 'max_depth', 'max_features', 'min_samples_leaf', 'min_samples_split', 'n_estimators']\n"
     ]
    }
   ],
   "source": [
    "# space to search\n",
    "# params = {'n_estimators': (25, 251),\n",
    "params = {'n_estimators': (25, 150),\n",
    "          'max_depth' : (10, 200),\n",
    "          'min_samples_split': (2,15),\n",
    "          'min_samples_leaf' : (2,15),\n",
    "          'max_features' : (.2,.8),\n",
    "          'bootstrap':(0,1),\n",
    "          } \n",
    "\n",
    "xtcBO = BayesianOptimization(extratrees, \n",
    "                            pbounds = params, \n",
    "                            random_state = seed)\n",
    "\n",
    "print(xtcBO.space.keys)"
   ]
  },
  {
   "cell_type": "code",
   "execution_count": 87,
   "metadata": {},
   "outputs": [
    {
     "name": "stdout",
     "output_type": "stream",
     "text": [
      "|   iter    |  target   | bootstrap | max_depth | max_fe... | min_sa... | min_sa... | n_esti... |\n",
      "-------------------------------------------------------------------------------------------------\n"
     ]
    },
    {
     "name": "stderr",
     "output_type": "stream",
     "text": [
      "/var/folders/nj/qv4q4t0d0yz8924lwlb0b73c0000gn/T/ipykernel_8569/2021403616.py:33: DataConversionWarning: A column-vector y was passed when a 1d array was expected. Please change the shape of y to (n_samples,), for example using ravel().\n",
      "  xtc_model = xtc.fit(X_smote, y_smote)\n"
     ]
    },
    {
     "name": "stdout",
     "output_type": "stream",
     "text": [
      "| \u001b[0m1        \u001b[0m | \u001b[0m0.8224   \u001b[0m | \u001b[0m0.417    \u001b[0m | \u001b[0m146.9    \u001b[0m | \u001b[0m0.2001   \u001b[0m | \u001b[0m5.93     \u001b[0m | \u001b[0m3.908    \u001b[0m | \u001b[0m36.54    \u001b[0m |\n"
     ]
    },
    {
     "name": "stderr",
     "output_type": "stream",
     "text": [
      "/var/folders/nj/qv4q4t0d0yz8924lwlb0b73c0000gn/T/ipykernel_8569/2021403616.py:33: DataConversionWarning: A column-vector y was passed when a 1d array was expected. Please change the shape of y to (n_samples,), for example using ravel().\n",
      "  xtc_model = xtc.fit(X_smote, y_smote)\n"
     ]
    },
    {
     "name": "stdout",
     "output_type": "stream",
     "text": [
      "| \u001b[0m2        \u001b[0m | \u001b[0m0.8081   \u001b[0m | \u001b[0m0.1863   \u001b[0m | \u001b[0m75.66    \u001b[0m | \u001b[0m0.4381   \u001b[0m | \u001b[0m9.005    \u001b[0m | \u001b[0m7.45     \u001b[0m | \u001b[0m110.7    \u001b[0m |\n"
     ]
    },
    {
     "name": "stderr",
     "output_type": "stream",
     "text": [
      "/var/folders/nj/qv4q4t0d0yz8924lwlb0b73c0000gn/T/ipykernel_8569/2021403616.py:33: DataConversionWarning: A column-vector y was passed when a 1d array was expected. Please change the shape of y to (n_samples,), for example using ravel().\n",
      "  xtc_model = xtc.fit(X_smote, y_smote)\n"
     ]
    },
    {
     "name": "stdout",
     "output_type": "stream",
     "text": [
      "| \u001b[0m3        \u001b[0m | \u001b[0m0.8081   \u001b[0m | \u001b[0m0.2045   \u001b[0m | \u001b[0m176.8    \u001b[0m | \u001b[0m0.2164   \u001b[0m | \u001b[0m10.72    \u001b[0m | \u001b[0m7.425    \u001b[0m | \u001b[0m94.84    \u001b[0m |\n"
     ]
    },
    {
     "name": "stderr",
     "output_type": "stream",
     "text": [
      "/var/folders/nj/qv4q4t0d0yz8924lwlb0b73c0000gn/T/ipykernel_8569/2021403616.py:33: DataConversionWarning: A column-vector y was passed when a 1d array was expected. Please change the shape of y to (n_samples,), for example using ravel().\n",
      "  xtc_model = xtc.fit(X_smote, y_smote)\n"
     ]
    },
    {
     "name": "stdout",
     "output_type": "stream",
     "text": [
      "| \u001b[0m4        \u001b[0m | \u001b[0m0.7891   \u001b[0m | \u001b[0m0.1404   \u001b[0m | \u001b[0m47.64    \u001b[0m | \u001b[0m0.6804   \u001b[0m | \u001b[0m14.59    \u001b[0m | \u001b[0m6.075    \u001b[0m | \u001b[0m111.5    \u001b[0m |\n"
     ]
    },
    {
     "name": "stderr",
     "output_type": "stream",
     "text": [
      "/var/folders/nj/qv4q4t0d0yz8924lwlb0b73c0000gn/T/ipykernel_8569/2021403616.py:33: DataConversionWarning: A column-vector y was passed when a 1d array was expected. Please change the shape of y to (n_samples,), for example using ravel().\n",
      "  xtc_model = xtc.fit(X_smote, y_smote)\n"
     ]
    },
    {
     "name": "stdout",
     "output_type": "stream",
     "text": [
      "| \u001b[95m5        \u001b[0m | \u001b[95m0.831    \u001b[0m | \u001b[95m0.8764   \u001b[0m | \u001b[95m180.0    \u001b[0m | \u001b[95m0.251    \u001b[0m | \u001b[95m2.508    \u001b[0m | \u001b[95m4.208    \u001b[0m | \u001b[95m134.8    \u001b[0m |\n"
     ]
    },
    {
     "name": "stderr",
     "output_type": "stream",
     "text": [
      "/var/folders/nj/qv4q4t0d0yz8924lwlb0b73c0000gn/T/ipykernel_8569/2021403616.py:33: DataConversionWarning: A column-vector y was passed when a 1d array was expected. Please change the shape of y to (n_samples,), for example using ravel().\n",
      "  xtc_model = xtc.fit(X_smote, y_smote)\n"
     ]
    },
    {
     "name": "stdout",
     "output_type": "stream",
     "text": [
      "| \u001b[0m6        \u001b[0m | \u001b[0m0.804    \u001b[0m | \u001b[0m0.09835  \u001b[0m | \u001b[0m90.01    \u001b[0m | \u001b[0m0.7747   \u001b[0m | \u001b[0m8.931    \u001b[0m | \u001b[0m10.99    \u001b[0m | \u001b[0m64.44    \u001b[0m |\n"
     ]
    },
    {
     "name": "stderr",
     "output_type": "stream",
     "text": [
      "/var/folders/nj/qv4q4t0d0yz8924lwlb0b73c0000gn/T/ipykernel_8569/2021403616.py:33: DataConversionWarning: A column-vector y was passed when a 1d array was expected. Please change the shape of y to (n_samples,), for example using ravel().\n",
      "  xtc_model = xtc.fit(X_smote, y_smote)\n"
     ]
    },
    {
     "name": "stdout",
     "output_type": "stream",
     "text": [
      "| \u001b[0m7        \u001b[0m | \u001b[0m0.8262   \u001b[0m | \u001b[0m0.3821   \u001b[0m | \u001b[0m178.8    \u001b[0m | \u001b[0m0.6073   \u001b[0m | \u001b[0m2.65     \u001b[0m | \u001b[0m5.49     \u001b[0m | \u001b[0m136.2    \u001b[0m |\n"
     ]
    },
    {
     "name": "stderr",
     "output_type": "stream",
     "text": [
      "/var/folders/nj/qv4q4t0d0yz8924lwlb0b73c0000gn/T/ipykernel_8569/2021403616.py:33: DataConversionWarning: A column-vector y was passed when a 1d array was expected. Please change the shape of y to (n_samples,), for example using ravel().\n",
      "  xtc_model = xtc.fit(X_smote, y_smote)\n"
     ]
    },
    {
     "name": "stdout",
     "output_type": "stream",
     "text": [
      "| \u001b[0m8        \u001b[0m | \u001b[0m0.8094   \u001b[0m | \u001b[0m1.0      \u001b[0m | \u001b[0m186.2    \u001b[0m | \u001b[0m0.2      \u001b[0m | \u001b[0m5.421    \u001b[0m | \u001b[0m2.0      \u001b[0m | \u001b[0m128.1    \u001b[0m |\n"
     ]
    },
    {
     "name": "stderr",
     "output_type": "stream",
     "text": [
      "/var/folders/nj/qv4q4t0d0yz8924lwlb0b73c0000gn/T/ipykernel_8569/2021403616.py:33: DataConversionWarning: A column-vector y was passed when a 1d array was expected. Please change the shape of y to (n_samples,), for example using ravel().\n",
      "  xtc_model = xtc.fit(X_smote, y_smote)\n"
     ]
    },
    {
     "name": "stdout",
     "output_type": "stream",
     "text": [
      "| \u001b[95m9        \u001b[0m | \u001b[95m0.8351   \u001b[0m | \u001b[95m0.9724   \u001b[0m | \u001b[95m177.8    \u001b[0m | \u001b[95m0.7025   \u001b[0m | \u001b[95m2.235    \u001b[0m | \u001b[95m2.904    \u001b[0m | \u001b[95m131.4    \u001b[0m |\n"
     ]
    },
    {
     "name": "stderr",
     "output_type": "stream",
     "text": [
      "/var/folders/nj/qv4q4t0d0yz8924lwlb0b73c0000gn/T/ipykernel_8569/2021403616.py:33: DataConversionWarning: A column-vector y was passed when a 1d array was expected. Please change the shape of y to (n_samples,), for example using ravel().\n",
      "  xtc_model = xtc.fit(X_smote, y_smote)\n"
     ]
    },
    {
     "name": "stdout",
     "output_type": "stream",
     "text": [
      "| \u001b[0m10       \u001b[0m | \u001b[0m0.8185   \u001b[0m | \u001b[0m0.3977   \u001b[0m | \u001b[0m170.0    \u001b[0m | \u001b[0m0.3152   \u001b[0m | \u001b[0m6.482    \u001b[0m | \u001b[0m3.172    \u001b[0m | \u001b[0m131.1    \u001b[0m |\n"
     ]
    },
    {
     "name": "stderr",
     "output_type": "stream",
     "text": [
      "/var/folders/nj/qv4q4t0d0yz8924lwlb0b73c0000gn/T/ipykernel_8569/2021403616.py:33: DataConversionWarning: A column-vector y was passed when a 1d array was expected. Please change the shape of y to (n_samples,), for example using ravel().\n",
      "  xtc_model = xtc.fit(X_smote, y_smote)\n"
     ]
    },
    {
     "name": "stdout",
     "output_type": "stream",
     "text": [
      "| \u001b[0m11       \u001b[0m | \u001b[0m0.827    \u001b[0m | \u001b[0m1.0      \u001b[0m | \u001b[0m177.4    \u001b[0m | \u001b[0m0.2      \u001b[0m | \u001b[0m2.0      \u001b[0m | \u001b[0m9.367    \u001b[0m | \u001b[0m128.0    \u001b[0m |\n"
     ]
    },
    {
     "name": "stderr",
     "output_type": "stream",
     "text": [
      "/var/folders/nj/qv4q4t0d0yz8924lwlb0b73c0000gn/T/ipykernel_8569/2021403616.py:33: DataConversionWarning: A column-vector y was passed when a 1d array was expected. Please change the shape of y to (n_samples,), for example using ravel().\n",
      "  xtc_model = xtc.fit(X_smote, y_smote)\n"
     ]
    },
    {
     "name": "stdout",
     "output_type": "stream",
     "text": [
      "| \u001b[0m12       \u001b[0m | \u001b[0m0.8072   \u001b[0m | \u001b[0m0.8158   \u001b[0m | \u001b[0m156.7    \u001b[0m | \u001b[0m0.4926   \u001b[0m | \u001b[0m5.4      \u001b[0m | \u001b[0m6.618    \u001b[0m | \u001b[0m27.69    \u001b[0m |\n"
     ]
    },
    {
     "name": "stderr",
     "output_type": "stream",
     "text": [
      "/var/folders/nj/qv4q4t0d0yz8924lwlb0b73c0000gn/T/ipykernel_8569/2021403616.py:33: DataConversionWarning: A column-vector y was passed when a 1d array was expected. Please change the shape of y to (n_samples,), for example using ravel().\n",
      "  xtc_model = xtc.fit(X_smote, y_smote)\n"
     ]
    },
    {
     "name": "stdout",
     "output_type": "stream",
     "text": [
      "| \u001b[0m13       \u001b[0m | \u001b[0m0.8229   \u001b[0m | \u001b[0m0.6098   \u001b[0m | \u001b[0m174.1    \u001b[0m | \u001b[0m0.7616   \u001b[0m | \u001b[0m3.625    \u001b[0m | \u001b[0m3.611    \u001b[0m | \u001b[0m119.7    \u001b[0m |\n"
     ]
    },
    {
     "name": "stderr",
     "output_type": "stream",
     "text": [
      "/var/folders/nj/qv4q4t0d0yz8924lwlb0b73c0000gn/T/ipykernel_8569/2021403616.py:33: DataConversionWarning: A column-vector y was passed when a 1d array was expected. Please change the shape of y to (n_samples,), for example using ravel().\n",
      "  xtc_model = xtc.fit(X_smote, y_smote)\n"
     ]
    },
    {
     "name": "stdout",
     "output_type": "stream",
     "text": [
      "| \u001b[0m14       \u001b[0m | \u001b[0m0.8168   \u001b[0m | \u001b[0m0.3659   \u001b[0m | \u001b[0m135.6    \u001b[0m | \u001b[0m0.7474   \u001b[0m | \u001b[0m3.227    \u001b[0m | \u001b[0m2.259    \u001b[0m | \u001b[0m40.93    \u001b[0m |\n"
     ]
    },
    {
     "name": "stderr",
     "output_type": "stream",
     "text": [
      "/var/folders/nj/qv4q4t0d0yz8924lwlb0b73c0000gn/T/ipykernel_8569/2021403616.py:33: DataConversionWarning: A column-vector y was passed when a 1d array was expected. Please change the shape of y to (n_samples,), for example using ravel().\n",
      "  xtc_model = xtc.fit(X_smote, y_smote)\n"
     ]
    },
    {
     "name": "stdout",
     "output_type": "stream",
     "text": [
      "| \u001b[0m15       \u001b[0m | \u001b[0m0.8186   \u001b[0m | \u001b[0m1.0      \u001b[0m | \u001b[0m169.5    \u001b[0m | \u001b[0m0.8      \u001b[0m | \u001b[0m2.0      \u001b[0m | \u001b[0m15.0     \u001b[0m | \u001b[0m120.4    \u001b[0m |\n"
     ]
    },
    {
     "name": "stderr",
     "output_type": "stream",
     "text": [
      "/var/folders/nj/qv4q4t0d0yz8924lwlb0b73c0000gn/T/ipykernel_8569/2021403616.py:33: DataConversionWarning: A column-vector y was passed when a 1d array was expected. Please change the shape of y to (n_samples,), for example using ravel().\n",
      "  xtc_model = xtc.fit(X_smote, y_smote)\n"
     ]
    },
    {
     "name": "stdout",
     "output_type": "stream",
     "text": [
      "| \u001b[0m16       \u001b[0m | \u001b[0m0.7907   \u001b[0m | \u001b[0m0.7425   \u001b[0m | \u001b[0m149.8    \u001b[0m | \u001b[0m0.6895   \u001b[0m | \u001b[0m10.45    \u001b[0m | \u001b[0m5.643    \u001b[0m | \u001b[0m46.29    \u001b[0m |\n"
     ]
    },
    {
     "name": "stderr",
     "output_type": "stream",
     "text": [
      "/var/folders/nj/qv4q4t0d0yz8924lwlb0b73c0000gn/T/ipykernel_8569/2021403616.py:33: DataConversionWarning: A column-vector y was passed when a 1d array was expected. Please change the shape of y to (n_samples,), for example using ravel().\n",
      "  xtc_model = xtc.fit(X_smote, y_smote)\n"
     ]
    },
    {
     "name": "stdout",
     "output_type": "stream",
     "text": [
      "| \u001b[0m17       \u001b[0m | \u001b[0m0.8081   \u001b[0m | \u001b[0m0.0975   \u001b[0m | \u001b[0m138.9    \u001b[0m | \u001b[0m0.2622   \u001b[0m | \u001b[0m8.297    \u001b[0m | \u001b[0m5.997    \u001b[0m | \u001b[0m28.49    \u001b[0m |\n"
     ]
    },
    {
     "name": "stderr",
     "output_type": "stream",
     "text": [
      "/var/folders/nj/qv4q4t0d0yz8924lwlb0b73c0000gn/T/ipykernel_8569/2021403616.py:33: DataConversionWarning: A column-vector y was passed when a 1d array was expected. Please change the shape of y to (n_samples,), for example using ravel().\n",
      "  xtc_model = xtc.fit(X_smote, y_smote)\n"
     ]
    },
    {
     "name": "stdout",
     "output_type": "stream",
     "text": [
      "| \u001b[0m18       \u001b[0m | \u001b[0m0.8075   \u001b[0m | \u001b[0m1.0      \u001b[0m | \u001b[0m178.0    \u001b[0m | \u001b[0m0.8      \u001b[0m | \u001b[0m7.719    \u001b[0m | \u001b[0m5.06     \u001b[0m | \u001b[0m131.0    \u001b[0m |\n"
     ]
    },
    {
     "name": "stderr",
     "output_type": "stream",
     "text": [
      "/var/folders/nj/qv4q4t0d0yz8924lwlb0b73c0000gn/T/ipykernel_8569/2021403616.py:33: DataConversionWarning: A column-vector y was passed when a 1d array was expected. Please change the shape of y to (n_samples,), for example using ravel().\n",
      "  xtc_model = xtc.fit(X_smote, y_smote)\n"
     ]
    },
    {
     "name": "stdout",
     "output_type": "stream",
     "text": [
      "| \u001b[0m19       \u001b[0m | \u001b[0m0.8287   \u001b[0m | \u001b[0m0.66     \u001b[0m | \u001b[0m170.2    \u001b[0m | \u001b[0m0.4409   \u001b[0m | \u001b[0m2.181    \u001b[0m | \u001b[0m7.653    \u001b[0m | \u001b[0m128.6    \u001b[0m |\n"
     ]
    },
    {
     "name": "stderr",
     "output_type": "stream",
     "text": [
      "/var/folders/nj/qv4q4t0d0yz8924lwlb0b73c0000gn/T/ipykernel_8569/2021403616.py:33: DataConversionWarning: A column-vector y was passed when a 1d array was expected. Please change the shape of y to (n_samples,), for example using ravel().\n",
      "  xtc_model = xtc.fit(X_smote, y_smote)\n"
     ]
    },
    {
     "name": "stdout",
     "output_type": "stream",
     "text": [
      "| \u001b[0m20       \u001b[0m | \u001b[0m0.8209   \u001b[0m | \u001b[0m1.0      \u001b[0m | \u001b[0m171.7    \u001b[0m | \u001b[0m0.2      \u001b[0m | \u001b[0m2.0      \u001b[0m | \u001b[0m13.51    \u001b[0m | \u001b[0m132.6    \u001b[0m |\n"
     ]
    },
    {
     "name": "stderr",
     "output_type": "stream",
     "text": [
      "/var/folders/nj/qv4q4t0d0yz8924lwlb0b73c0000gn/T/ipykernel_8569/2021403616.py:33: DataConversionWarning: A column-vector y was passed when a 1d array was expected. Please change the shape of y to (n_samples,), for example using ravel().\n",
      "  xtc_model = xtc.fit(X_smote, y_smote)\n"
     ]
    },
    {
     "name": "stdout",
     "output_type": "stream",
     "text": [
      "| \u001b[0m21       \u001b[0m | \u001b[0m0.8348   \u001b[0m | \u001b[0m0.9336   \u001b[0m | \u001b[0m162.9    \u001b[0m | \u001b[0m0.7052   \u001b[0m | \u001b[0m2.931    \u001b[0m | \u001b[0m3.626    \u001b[0m | \u001b[0m120.0    \u001b[0m |\n"
     ]
    },
    {
     "name": "stderr",
     "output_type": "stream",
     "text": [
      "/var/folders/nj/qv4q4t0d0yz8924lwlb0b73c0000gn/T/ipykernel_8569/2021403616.py:33: DataConversionWarning: A column-vector y was passed when a 1d array was expected. Please change the shape of y to (n_samples,), for example using ravel().\n",
      "  xtc_model = xtc.fit(X_smote, y_smote)\n"
     ]
    },
    {
     "name": "stdout",
     "output_type": "stream",
     "text": [
      "| \u001b[95m22       \u001b[0m | \u001b[95m0.8407   \u001b[0m | \u001b[95m0.4036   \u001b[0m | \u001b[95m160.6    \u001b[0m | \u001b[95m0.2      \u001b[0m | \u001b[95m2.0      \u001b[0m | \u001b[95m5.819    \u001b[0m | \u001b[95m125.8    \u001b[0m |\n"
     ]
    },
    {
     "name": "stderr",
     "output_type": "stream",
     "text": [
      "/var/folders/nj/qv4q4t0d0yz8924lwlb0b73c0000gn/T/ipykernel_8569/2021403616.py:33: DataConversionWarning: A column-vector y was passed when a 1d array was expected. Please change the shape of y to (n_samples,), for example using ravel().\n",
      "  xtc_model = xtc.fit(X_smote, y_smote)\n"
     ]
    },
    {
     "name": "stdout",
     "output_type": "stream",
     "text": [
      "| \u001b[0m23       \u001b[0m | \u001b[0m0.8162   \u001b[0m | \u001b[0m0.1635   \u001b[0m | \u001b[0m153.9    \u001b[0m | \u001b[0m0.4492   \u001b[0m | \u001b[0m7.081    \u001b[0m | \u001b[0m7.089    \u001b[0m | \u001b[0m125.6    \u001b[0m |\n"
     ]
    },
    {
     "name": "stderr",
     "output_type": "stream",
     "text": [
      "/var/folders/nj/qv4q4t0d0yz8924lwlb0b73c0000gn/T/ipykernel_8569/2021403616.py:33: DataConversionWarning: A column-vector y was passed when a 1d array was expected. Please change the shape of y to (n_samples,), for example using ravel().\n",
      "  xtc_model = xtc.fit(X_smote, y_smote)\n"
     ]
    },
    {
     "name": "stdout",
     "output_type": "stream",
     "text": [
      "| \u001b[0m24       \u001b[0m | \u001b[0m0.8268   \u001b[0m | \u001b[0m1.0      \u001b[0m | \u001b[0m163.8    \u001b[0m | \u001b[0m0.8      \u001b[0m | \u001b[0m2.0      \u001b[0m | \u001b[0m2.0      \u001b[0m | \u001b[0m126.3    \u001b[0m |\n"
     ]
    },
    {
     "name": "stderr",
     "output_type": "stream",
     "text": [
      "/var/folders/nj/qv4q4t0d0yz8924lwlb0b73c0000gn/T/ipykernel_8569/2021403616.py:33: DataConversionWarning: A column-vector y was passed when a 1d array was expected. Please change the shape of y to (n_samples,), for example using ravel().\n",
      "  xtc_model = xtc.fit(X_smote, y_smote)\n"
     ]
    },
    {
     "name": "stdout",
     "output_type": "stream",
     "text": [
      "| \u001b[0m25       \u001b[0m | \u001b[0m0.8384   \u001b[0m | \u001b[0m0.0      \u001b[0m | \u001b[0m162.1    \u001b[0m | \u001b[0m0.2      \u001b[0m | \u001b[0m2.0      \u001b[0m | \u001b[0m9.372    \u001b[0m | \u001b[0m122.7    \u001b[0m |\n"
     ]
    },
    {
     "name": "stderr",
     "output_type": "stream",
     "text": [
      "/var/folders/nj/qv4q4t0d0yz8924lwlb0b73c0000gn/T/ipykernel_8569/2021403616.py:33: DataConversionWarning: A column-vector y was passed when a 1d array was expected. Please change the shape of y to (n_samples,), for example using ravel().\n",
      "  xtc_model = xtc.fit(X_smote, y_smote)\n"
     ]
    },
    {
     "name": "stdout",
     "output_type": "stream",
     "text": [
      "| \u001b[0m26       \u001b[0m | \u001b[0m0.8265   \u001b[0m | \u001b[0m0.4922   \u001b[0m | \u001b[0m158.8    \u001b[0m | \u001b[0m0.6554   \u001b[0m | \u001b[0m2.885    \u001b[0m | \u001b[0m5.787    \u001b[0m | \u001b[0m115.5    \u001b[0m |\n"
     ]
    },
    {
     "name": "stderr",
     "output_type": "stream",
     "text": [
      "/var/folders/nj/qv4q4t0d0yz8924lwlb0b73c0000gn/T/ipykernel_8569/2021403616.py:33: DataConversionWarning: A column-vector y was passed when a 1d array was expected. Please change the shape of y to (n_samples,), for example using ravel().\n",
      "  xtc_model = xtc.fit(X_smote, y_smote)\n"
     ]
    },
    {
     "name": "stdout",
     "output_type": "stream",
     "text": [
      "| \u001b[0m27       \u001b[0m | \u001b[0m0.8232   \u001b[0m | \u001b[0m0.04457  \u001b[0m | \u001b[0m162.0    \u001b[0m | \u001b[0m0.6519   \u001b[0m | \u001b[0m5.947    \u001b[0m | \u001b[0m9.714    \u001b[0m | \u001b[0m127.3    \u001b[0m |\n"
     ]
    },
    {
     "name": "stderr",
     "output_type": "stream",
     "text": [
      "/var/folders/nj/qv4q4t0d0yz8924lwlb0b73c0000gn/T/ipykernel_8569/2021403616.py:33: DataConversionWarning: A column-vector y was passed when a 1d array was expected. Please change the shape of y to (n_samples,), for example using ravel().\n",
      "  xtc_model = xtc.fit(X_smote, y_smote)\n"
     ]
    },
    {
     "name": "stdout",
     "output_type": "stream",
     "text": [
      "| \u001b[0m28       \u001b[0m | \u001b[0m0.7997   \u001b[0m | \u001b[0m0.0      \u001b[0m | \u001b[0m165.0    \u001b[0m | \u001b[0m0.2      \u001b[0m | \u001b[0m11.58    \u001b[0m | \u001b[0m2.0      \u001b[0m | \u001b[0m114.5    \u001b[0m |\n"
     ]
    },
    {
     "name": "stderr",
     "output_type": "stream",
     "text": [
      "/var/folders/nj/qv4q4t0d0yz8924lwlb0b73c0000gn/T/ipykernel_8569/2021403616.py:33: DataConversionWarning: A column-vector y was passed when a 1d array was expected. Please change the shape of y to (n_samples,), for example using ravel().\n",
      "  xtc_model = xtc.fit(X_smote, y_smote)\n"
     ]
    },
    {
     "name": "stdout",
     "output_type": "stream",
     "text": [
      "| \u001b[0m29       \u001b[0m | \u001b[0m0.8322   \u001b[0m | \u001b[0m0.3448   \u001b[0m | \u001b[0m158.8    \u001b[0m | \u001b[0m0.2486   \u001b[0m | \u001b[0m3.032    \u001b[0m | \u001b[0m6.024    \u001b[0m | \u001b[0m139.2    \u001b[0m |\n"
     ]
    },
    {
     "name": "stderr",
     "output_type": "stream",
     "text": [
      "/var/folders/nj/qv4q4t0d0yz8924lwlb0b73c0000gn/T/ipykernel_8569/2021403616.py:33: DataConversionWarning: A column-vector y was passed when a 1d array was expected. Please change the shape of y to (n_samples,), for example using ravel().\n",
      "  xtc_model = xtc.fit(X_smote, y_smote)\n"
     ]
    },
    {
     "name": "stdout",
     "output_type": "stream",
     "text": [
      "| \u001b[0m30       \u001b[0m | \u001b[0m0.8358   \u001b[0m | \u001b[0m0.56     \u001b[0m | \u001b[0m155.1    \u001b[0m | \u001b[0m0.2      \u001b[0m | \u001b[0m2.0      \u001b[0m | \u001b[0m2.0      \u001b[0m | \u001b[0m146.1    \u001b[0m |\n"
     ]
    },
    {
     "name": "stderr",
     "output_type": "stream",
     "text": [
      "/var/folders/nj/qv4q4t0d0yz8924lwlb0b73c0000gn/T/ipykernel_8569/2021403616.py:33: DataConversionWarning: A column-vector y was passed when a 1d array was expected. Please change the shape of y to (n_samples,), for example using ravel().\n",
      "  xtc_model = xtc.fit(X_smote, y_smote)\n"
     ]
    },
    {
     "name": "stdout",
     "output_type": "stream",
     "text": [
      "| \u001b[0m31       \u001b[0m | \u001b[0m0.8375   \u001b[0m | \u001b[0m0.0      \u001b[0m | \u001b[0m154.3    \u001b[0m | \u001b[0m0.2      \u001b[0m | \u001b[0m2.0      \u001b[0m | \u001b[0m10.29    \u001b[0m | \u001b[0m147.1    \u001b[0m |\n",
      "=================================================================================================\n"
     ]
    }
   ],
   "source": [
    "xtcBO.maximize(init_points=6, \n",
    "               n_iter=25,\n",
    "               acq = 'ucb',\n",
    "               xi = 0.0,\n",
    "               alpha = 1e-6)"
   ]
  },
  {
   "cell_type": "code",
   "execution_count": 88,
   "metadata": {},
   "outputs": [
    {
     "data": {
      "text/plain": [
       "{'target': 0.8406779661016949,\n",
       " 'params': {'bootstrap': 0.40360102731211306,\n",
       "  'max_depth': 160.59234764518655,\n",
       "  'max_features': 0.2,\n",
       "  'min_samples_leaf': 2.0,\n",
       "  'min_samples_split': 5.819074468474303,\n",
       "  'n_estimators': 125.78270526494637}}"
      ]
     },
     "execution_count": 88,
     "metadata": {},
     "output_type": "execute_result"
    }
   ],
   "source": [
    "# Best Hyperparameters selected\n",
    "xtcBO.max"
   ]
  },
  {
   "cell_type": "code",
   "execution_count": 89,
   "metadata": {},
   "outputs": [
    {
     "name": "stderr",
     "output_type": "stream",
     "text": [
      "/var/folders/nj/qv4q4t0d0yz8924lwlb0b73c0000gn/T/ipykernel_8569/1080922815.py:10: DataConversionWarning: A column-vector y was passed when a 1d array was expected. Please change the shape of y to (n_samples,), for example using ravel().\n",
      "  xtc_tuned_model = xtc_tuned.fit(X_smote, y_smote)\n"
     ]
    },
    {
     "name": "stdout",
     "output_type": "stream",
     "text": [
      "=====================train====================\n",
      "accuracy: 0.99441\n",
      "precision: 0.99731\n",
      "recall: 0.9915\n",
      "f1 score: 0.9944\n",
      "pr auc: 0.99994\n",
      "=====================val====================\n",
      "accuracy: 0.91704\n",
      "precision: 0.88555\n",
      "recall: 0.79563\n",
      "f1 score: 0.83819\n",
      "pr auc: 0.85706\n",
      "=====================test====================\n",
      "accuracy: 0.91357\n",
      "precision: 0.90137\n",
      "recall: 0.7635\n",
      "f1 score: 0.82672\n",
      "pr auc: 0.86032\n"
     ]
    }
   ],
   "source": [
    "xtc_tuned = ExtraTreesClassifier(n_estimators = int(xtcBO.max['params']['n_estimators']),\n",
    "                                    max_depth = int(xtcBO.max['params']['max_depth']),\n",
    "                                    min_samples_split = int(xtcBO.max['params']['min_samples_split']),  \n",
    "                                    min_samples_leaf = int(xtcBO.max['params']['min_samples_leaf']),\n",
    "                                    max_features =  xtcBO.max['params']['max_features'],                 \n",
    "                                    bootstrap = xtcBO.max['params']['bootstrap'] > 0.5,\n",
    "                                    oob_score = xtcBO.max['params']['bootstrap'] > 0.5,\n",
    "                                    n_jobs=6)\n",
    "\n",
    "xtc_tuned_model = xtc_tuned.fit(X_smote, y_smote)\n",
    "\n",
    "y_pred_train = xtc_tuned_model.predict(X_smote)\n",
    "y_pred_train_proba = xtc_tuned_model.predict_proba(X_smote)[:, 1]\n",
    "print_statistics(y_smote, y_pred_train, y_pred_train_proba, 'train')\n",
    "\n",
    "y_pred_val = xtc_tuned_model.predict(X_val)\n",
    "y_pred_val_proba = xtc_tuned_model.predict_proba(X_val)[:, 1]\n",
    "print_statistics(y_val, y_pred_val, y_pred_val_proba, 'val')\n",
    "\n",
    "y_pred_test = xtc_tuned_model.predict(X_test)\n",
    "y_pred_test_proba = xtc_tuned_model.predict_proba(X_test)[:, 1]\n",
    "print_statistics(y_test, y_pred_test, y_pred_test_proba, 'test')"
   ]
  },
  {
   "cell_type": "code",
   "execution_count": null,
   "metadata": {},
   "outputs": [],
   "source": []
  },
  {
   "cell_type": "code",
   "execution_count": null,
   "metadata": {},
   "outputs": [],
   "source": []
  },
  {
   "cell_type": "code",
   "execution_count": null,
   "metadata": {},
   "outputs": [],
   "source": []
  }
 ],
 "metadata": {
  "kernelspec": {
   "display_name": "Python 3.9.12 ('base')",
   "language": "python",
   "name": "python3"
  },
  "language_info": {
   "codemirror_mode": {
    "name": "ipython",
    "version": 3
   },
   "file_extension": ".py",
   "mimetype": "text/x-python",
   "name": "python",
   "nbconvert_exporter": "python",
   "pygments_lexer": "ipython3",
   "version": "3.9.12"
  },
  "orig_nbformat": 4,
  "vscode": {
   "interpreter": {
    "hash": "978f330f18f09b96c963e3c91a07e0012914276ff7638db23c1ba2d61898b52b"
   }
  }
 },
 "nbformat": 4,
 "nbformat_minor": 2
}
