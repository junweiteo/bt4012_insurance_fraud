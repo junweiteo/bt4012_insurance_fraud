{
 "cells": [
  {
   "cell_type": "code",
   "execution_count": 114,
   "metadata": {},
   "outputs": [],
   "source": [
    "# !pip3 install bayesian-optimization"
   ]
  },
  {
   "cell_type": "code",
   "execution_count": null,
   "metadata": {},
   "outputs": [],
   "source": [
    "# !pip3 install shap"
   ]
  },
  {
   "cell_type": "code",
   "execution_count": 130,
   "metadata": {},
   "outputs": [],
   "source": [
    "import pandas as pd\n",
    "import matplotlib.pyplot as plt\n",
    "import seaborn as sns\n",
    "from sklearn import metrics as skmetrics\n",
    "from sklearn.ensemble import RandomForestClassifier\n",
    "from sklearn.ensemble import ExtraTreesClassifier\n",
    "\n",
    "from bayes_opt import BayesianOptimization\n",
    "import shap"
   ]
  },
  {
   "cell_type": "code",
   "execution_count": 116,
   "metadata": {},
   "outputs": [],
   "source": [
    "pd.options.display.max_rows = 100\n",
    "pd.options.display.max_columns = 200\n",
    "sns.set(rc={'figure.figsize':(5,10)})"
   ]
  },
  {
   "cell_type": "code",
   "execution_count": 117,
   "metadata": {},
   "outputs": [],
   "source": [
    "X_smote = pd.read_csv('data/X_smote.csv')\n",
    "y_smote = pd.read_csv('data/y_smote.csv')\n",
    "\n",
    "X_val = pd.read_csv('data/X_val.csv')\n",
    "y_val = pd.read_csv('data/y_val.csv')\n",
    "\n",
    "X_test = pd.read_csv('data/X_test.csv')\n",
    "y_test = pd.read_csv('data/y_test.csv')"
   ]
  },
  {
   "cell_type": "code",
   "execution_count": 118,
   "metadata": {},
   "outputs": [],
   "source": [
    "def print_statistics(y_actual, y_pred, y_prob, dataset_type):\n",
    "  print(f\"====================={dataset_type}====================\")\n",
    "  print(f\"accuracy: {round(skmetrics.accuracy_score(y_actual, y_pred),5)}\")\n",
    "  print(f\"precision (macro): {round(skmetrics.precision_score(y_actual, y_pred, average='macro'),5)}\")\n",
    "  print(f\"recall (macro): {round(skmetrics.recall_score(y_actual, y_pred, average='macro'),5)}\")\n",
    "  print(f\"f1 score (macro): {round(skmetrics.f1_score(y_actual, y_pred, average='macro'),5)}\")\n",
    "  print(f\"f1 score of class 1: {round(skmetrics.f1_score(y_actual, y_pred, pos_label=1),5)}\")\n",
    "  print(f\"f1 score of class 0: {round(skmetrics.f1_score(y_actual, y_pred, pos_label=0),5)}\")\n",
    "  prec, recall, thresholds = skmetrics.precision_recall_curve(y_actual, y_prob)\n",
    "  print(f\"pr auc score of class 1: {round(skmetrics.auc(recall, prec),5)}\")\n",
    "  prec_0, recall_0, thresholds = skmetrics.precision_recall_curve(y_actual, y_prob, pos_label=0)\n",
    "  print(f\"pr auc score of class 0: {round(skmetrics.auc(recall_0, prec_0),5)}\")"
   ]
  },
  {
   "cell_type": "markdown",
   "metadata": {},
   "source": [
    "## Random Forest"
   ]
  },
  {
   "cell_type": "code",
   "execution_count": 119,
   "metadata": {},
   "outputs": [
    {
     "name": "stderr",
     "output_type": "stream",
     "text": [
      "/var/folders/nj/qv4q4t0d0yz8924lwlb0b73c0000gn/T/ipykernel_8569/2399065869.py:2: DataConversionWarning: A column-vector y was passed when a 1d array was expected. Please change the shape of y to (n_samples,), for example using ravel().\n",
      "  rf_model = rf.fit(X_smote, y_smote)\n"
     ]
    },
    {
     "name": "stdout",
     "output_type": "stream",
     "text": [
      "=====================train====================\n",
      "accuracy: 1.0\n",
      "precision (macro): 1.0\n",
      "recall (macro): 1.0\n",
      "f1 score (macro): 1.0\n",
      "f1 score of class 1: 1.0\n",
      "f1 score of class 0: 1.0\n",
      "pr auc score of class 1: 1.0\n",
      "pr auc score of class 0: 0.47207\n",
      "=====================val====================\n",
      "accuracy: 0.94071\n",
      "precision (macro): 0.94336\n",
      "recall (macro): 0.9044\n",
      "f1 score (macro): 0.92148\n",
      "f1 score of class 1: 0.88264\n",
      "f1 score of class 0: 0.96033\n",
      "pr auc score of class 1: 0.87005\n",
      "pr auc score of class 0: 0.53521\n",
      "=====================test====================\n",
      "accuracy: 0.94244\n",
      "precision (macro): 0.94327\n",
      "recall (macro): 0.90882\n",
      "f1 score (macro): 0.92416\n",
      "f1 score of class 1: 0.88692\n",
      "f1 score of class 0: 0.9614\n",
      "pr auc score of class 1: 0.8735\n",
      "pr auc score of class 0: 0.53328\n"
     ]
    }
   ],
   "source": [
    "rf = RandomForestClassifier()\n",
    "rf_model = rf.fit(X_smote, y_smote)\n",
    "\n",
    "y_pred_train = rf_model.predict(X_smote)\n",
    "y_pred_train_proba = rf_model.predict_proba(X_smote)[:, 1]\n",
    "print_statistics(y_smote, y_pred_train, y_pred_train_proba, 'train')\n",
    "\n",
    "y_pred_val = rf_model.predict(X_val)\n",
    "y_pred_val_proba = rf_model.predict_proba(X_val)[:, 1]\n",
    "print_statistics(y_val, y_pred_val, y_pred_val_proba, 'val')\n",
    "\n",
    "y_pred_test = rf_model.predict(X_test)\n",
    "y_pred_test_proba = rf_model.predict_proba(X_test)[:, 1]\n",
    "print_statistics(y_test, y_pred_test, y_pred_test_proba, 'test')"
   ]
  },
  {
   "cell_type": "markdown",
   "metadata": {},
   "source": [
    "## Extra Trees Classifier"
   ]
  },
  {
   "cell_type": "code",
   "execution_count": 120,
   "metadata": {},
   "outputs": [
    {
     "name": "stderr",
     "output_type": "stream",
     "text": [
      "/var/folders/nj/qv4q4t0d0yz8924lwlb0b73c0000gn/T/ipykernel_8569/433721700.py:2: DataConversionWarning: A column-vector y was passed when a 1d array was expected. Please change the shape of y to (n_samples,), for example using ravel().\n",
      "  xtc_model = xtc.fit(X_smote, y_smote)\n"
     ]
    },
    {
     "name": "stdout",
     "output_type": "stream",
     "text": [
      "=====================train====================\n",
      "accuracy: 1.0\n",
      "precision (macro): 1.0\n",
      "recall (macro): 1.0\n",
      "f1 score (macro): 1.0\n",
      "f1 score of class 1: 1.0\n",
      "f1 score of class 0: 1.0\n",
      "pr auc score of class 1: 1.0\n",
      "pr auc score of class 0: 0.34483\n",
      "=====================val====================\n",
      "accuracy: 0.93655\n",
      "precision (macro): 0.93538\n",
      "recall (macro): 0.90114\n",
      "f1 score (macro): 0.91635\n",
      "f1 score of class 1: 0.87526\n",
      "f1 score of class 0: 0.95745\n",
      "pr auc score of class 1: 0.86575\n",
      "pr auc score of class 0: 0.53705\n",
      "=====================test====================\n",
      "accuracy: 0.93551\n",
      "precision (macro): 0.93125\n",
      "recall (macro): 0.90245\n",
      "f1 score (macro): 0.91547\n",
      "f1 score of class 1: 0.87432\n",
      "f1 score of class 0: 0.95662\n",
      "pr auc score of class 1: 0.86582\n",
      "pr auc score of class 0: 0.53469\n"
     ]
    }
   ],
   "source": [
    "xtc = ExtraTreesClassifier()\n",
    "xtc_model = xtc.fit(X_smote, y_smote)\n",
    "\n",
    "y_pred_train = xtc_model.predict(X_smote)\n",
    "y_pred_train_proba = xtc_model.predict_proba(X_smote)[:, 1]\n",
    "print_statistics(y_smote, y_pred_train, y_pred_train_proba, 'train')\n",
    "\n",
    "y_pred_val = xtc_model.predict(X_val)\n",
    "y_pred_val_proba = xtc_model.predict_proba(X_val)[:, 1]\n",
    "print_statistics(y_val, y_pred_val, y_pred_val_proba, 'val')\n",
    "\n",
    "y_pred_test = xtc_model.predict(X_test)\n",
    "y_pred_test_proba = xtc_model.predict_proba(X_test)[:, 1]\n",
    "print_statistics(y_test, y_pred_test, y_pred_test_proba, 'test')"
   ]
  },
  {
   "cell_type": "markdown",
   "metadata": {},
   "source": [
    "## Model interpretability - SHAP"
   ]
  },
  {
   "cell_type": "code",
   "execution_count": 134,
   "metadata": {},
   "outputs": [
    {
     "name": "stderr",
     "output_type": "stream",
     "text": [
      "100%|===================| 5759/5768 [06:02<00:00]        "
     ]
    }
   ],
   "source": [
    "explainer = shap.TreeExplainer(xtc_model, X_test)\n",
    "shap_values = explainer(X_test)"
   ]
  },
  {
   "cell_type": "code",
   "execution_count": 142,
   "metadata": {},
   "outputs": [
    {
     "data": {
      "text/plain": [
       "(2884, 130, 2)"
      ]
     },
     "execution_count": 142,
     "metadata": {},
     "output_type": "execute_result"
    }
   ],
   "source": [
    "shap_values.shape "
   ]
  },
  {
   "cell_type": "code",
   "execution_count": 151,
   "metadata": {},
   "outputs": [
    {
     "data": {
      "image/png": "[encoded data removed]",
      "text/plain": [
       "<Figure size 576x396 with 2 Axes>"
      ]
     },
     "metadata": {},
     "output_type": "display_data"
    }
   ],
   "source": [
    "# shap.summary_plot() creates a density scatter plot of SHAP values for each feature to identify how much impact \n",
    "# each feature has on the model output. Features are ssorted by the sum of the SHAP value magnitudes across all samples.\n",
    "fig, ax = plt.subplots(1,1)\n",
    "ax.set_title(\"SHAP plot for Extra Trees Classifier\")\n",
    "shap.summary_plot(shap_values[:, :, 1], \n",
    "                  features=X_test, \n",
    "                  max_display=10)"
   ]
  },
  {
   "cell_type": "markdown",
   "metadata": {},
   "source": [
    "1. SuspiciousLocation - makes the largest positive impact on fraud prediction. If claim location is a suspicious location, large positive impact on fraud prediction, and vice versa.\n",
    "2. SeverityOfIncident\n",
    "    - If minor damage, relatively large negative impact on fraud prediction, as compared to total loss. "
   ]
  },
  {
   "cell_type": "markdown",
   "metadata": {},
   "source": [
    "## Tune the ExtraTrees classifier (Bayesian optimization)"
   ]
  },
  {
   "cell_type": "code",
   "execution_count": 128,
   "metadata": {},
   "outputs": [
    {
     "data": {
      "image/png": "[encoded data removed]",
      "text/plain": [
       "<Figure size 720x360 with 1 Axes>"
      ]
     },
     "metadata": {},
     "output_type": "display_data"
    }
   ],
   "source": [
    "feature_names = [f\"{X_smote.columns[i]}\" for i in range(X_smote.shape[1])]\n",
    "\n",
    "importances = xtc_model.feature_importances_\n",
    "\n",
    "forest_importances = pd.DataFrame({'feature': feature_names,\n",
    "                                    'importance': importances}\n",
    "                                    )\n",
    "forest_importances = forest_importances.sort_values('importance', ascending=False)\n",
    "forest_importances = forest_importances[:20] # top 20\n",
    "\n",
    "fig, ax = plt.subplots(1,1)\n",
    "sns.set(rc={'figure.figsize':(10,5)})\n",
    "sns.barplot(y='feature', x='importance', ax=ax, data=forest_importances, orient=\"h\")\n",
    "ax.set_title(\"Top 20 features for ExtraTrees\")\n",
    "ax.set_xlabel(\"Mean decrease in impurity\")\n",
    "ax.set_ylabel(\"Feature\")\n",
    "fig.tight_layout()"
   ]
  },
  {
   "cell_type": "code",
   "execution_count": 123,
   "metadata": {},
   "outputs": [],
   "source": [
    "seed = 1\n",
    "\n",
    "def extratrees(n_estimators,\n",
    "                max_depth,\n",
    "                min_samples_split,\n",
    "                min_samples_leaf,\n",
    "                max_features,\n",
    "                bootstrap):\n",
    "\n",
    "    n_estimators = int(n_estimators)\n",
    "    max_depth = int(max_depth) # Pre-pruning technique\n",
    "    min_samples_split = int(min_samples_split) # Pre-pruning technique\n",
    "    min_samples_leaf = int(min_samples_leaf) # Pre-pruning technique\n",
    "    bootstrap = bootstrap > 0.5\n",
    "    \n",
    "    assert type(n_estimators) == int\n",
    "    assert type(max_depth) == int\n",
    "    assert type(min_samples_split) == int\n",
    "    assert type(min_samples_leaf) == int\n",
    "\n",
    "\n",
    "    xtc = ExtraTreesClassifier(n_estimators=n_estimators,\n",
    "                               max_depth=max_depth,\n",
    "                               min_samples_split=min_samples_split,\n",
    "                               min_samples_leaf=min_samples_leaf,\n",
    "                               max_features=max_features,\n",
    "                               bootstrap=bootstrap,\n",
    "                               oob_score=bootstrap,\n",
    "                               n_jobs=6,\n",
    "                               random_state=seed,\n",
    "                               verbose=0)\n",
    "\n",
    "    xtc_model = xtc.fit(X_smote, y_smote)\n",
    "    # use validation set to evaluate performance - F1 is our main metric\n",
    "    y_pred_val = xtc_model.predict(X_val)\n",
    "    return skmetrics.f1_score(y_val, y_pred_val)"
   ]
  },
  {
   "cell_type": "code",
   "execution_count": 124,
   "metadata": {},
   "outputs": [
    {
     "name": "stdout",
     "output_type": "stream",
     "text": [
      "['bootstrap', 'max_depth', 'max_features', 'min_samples_leaf', 'min_samples_split', 'n_estimators']\n"
     ]
    }
   ],
   "source": [
    "# space to search\n",
    "params = {'n_estimators': (25, 150),\n",
    "          'max_depth' : (10, 200),\n",
    "          'min_samples_split': (2,15),\n",
    "          'min_samples_leaf' : (2,15),\n",
    "          'max_features' : (.2,.8),\n",
    "          'bootstrap':(0,1),\n",
    "          } \n",
    "\n",
    "xtcBO = BayesianOptimization(extratrees, \n",
    "                            pbounds = params, \n",
    "                            random_state = seed)\n",
    "\n",
    "print(xtcBO.space.keys)"
   ]
  },
  {
   "cell_type": "code",
   "execution_count": 125,
   "metadata": {},
   "outputs": [
    {
     "name": "stdout",
     "output_type": "stream",
     "text": [
      "|   iter    |  target   | bootstrap | max_depth | max_fe... | min_sa... | min_sa... | n_esti... |\n",
      "-------------------------------------------------------------------------------------------------\n"
     ]
    },
    {
     "name": "stderr",
     "output_type": "stream",
     "text": [
      "/var/folders/nj/qv4q4t0d0yz8924lwlb0b73c0000gn/T/ipykernel_8569/2021403616.py:33: DataConversionWarning: A column-vector y was passed when a 1d array was expected. Please change the shape of y to (n_samples,), for example using ravel().\n",
      "  xtc_model = xtc.fit(X_smote, y_smote)\n"
     ]
    },
    {
     "name": "stdout",
     "output_type": "stream",
     "text": [
      "| \u001b[0m1        \u001b[0m | \u001b[0m0.8854   \u001b[0m | \u001b[0m0.417    \u001b[0m | \u001b[0m146.9    \u001b[0m | \u001b[0m0.2001   \u001b[0m | \u001b[0m5.93     \u001b[0m | \u001b[0m3.908    \u001b[0m | \u001b[0m36.54    \u001b[0m |\n"
     ]
    },
    {
     "name": "stderr",
     "output_type": "stream",
     "text": [
      "/var/folders/nj/qv4q4t0d0yz8924lwlb0b73c0000gn/T/ipykernel_8569/2021403616.py:33: DataConversionWarning: A column-vector y was passed when a 1d array was expected. Please change the shape of y to (n_samples,), for example using ravel().\n",
      "  xtc_model = xtc.fit(X_smote, y_smote)\n"
     ]
    },
    {
     "name": "stdout",
     "output_type": "stream",
     "text": [
      "| \u001b[0m2        \u001b[0m | \u001b[0m0.8854   \u001b[0m | \u001b[0m0.1863   \u001b[0m | \u001b[0m75.66    \u001b[0m | \u001b[0m0.4381   \u001b[0m | \u001b[0m9.005    \u001b[0m | \u001b[0m7.45     \u001b[0m | \u001b[0m110.7    \u001b[0m |\n"
     ]
    },
    {
     "name": "stderr",
     "output_type": "stream",
     "text": [
      "/var/folders/nj/qv4q4t0d0yz8924lwlb0b73c0000gn/T/ipykernel_8569/2021403616.py:33: DataConversionWarning: A column-vector y was passed when a 1d array was expected. Please change the shape of y to (n_samples,), for example using ravel().\n",
      "  xtc_model = xtc.fit(X_smote, y_smote)\n"
     ]
    },
    {
     "name": "stdout",
     "output_type": "stream",
     "text": [
      "| \u001b[0m3        \u001b[0m | \u001b[0m0.8854   \u001b[0m | \u001b[0m0.2045   \u001b[0m | \u001b[0m176.8    \u001b[0m | \u001b[0m0.2164   \u001b[0m | \u001b[0m10.72    \u001b[0m | \u001b[0m7.425    \u001b[0m | \u001b[0m94.84    \u001b[0m |\n"
     ]
    },
    {
     "name": "stderr",
     "output_type": "stream",
     "text": [
      "/var/folders/nj/qv4q4t0d0yz8924lwlb0b73c0000gn/T/ipykernel_8569/2021403616.py:33: DataConversionWarning: A column-vector y was passed when a 1d array was expected. Please change the shape of y to (n_samples,), for example using ravel().\n",
      "  xtc_model = xtc.fit(X_smote, y_smote)\n"
     ]
    },
    {
     "name": "stdout",
     "output_type": "stream",
     "text": [
      "| \u001b[0m4        \u001b[0m | \u001b[0m0.8854   \u001b[0m | \u001b[0m0.1404   \u001b[0m | \u001b[0m47.64    \u001b[0m | \u001b[0m0.6804   \u001b[0m | \u001b[0m14.59    \u001b[0m | \u001b[0m6.075    \u001b[0m | \u001b[0m111.5    \u001b[0m |\n"
     ]
    },
    {
     "name": "stderr",
     "output_type": "stream",
     "text": [
      "/var/folders/nj/qv4q4t0d0yz8924lwlb0b73c0000gn/T/ipykernel_8569/2021403616.py:33: DataConversionWarning: A column-vector y was passed when a 1d array was expected. Please change the shape of y to (n_samples,), for example using ravel().\n",
      "  xtc_model = xtc.fit(X_smote, y_smote)\n"
     ]
    },
    {
     "name": "stdout",
     "output_type": "stream",
     "text": [
      "| \u001b[0m5        \u001b[0m | \u001b[0m0.8848   \u001b[0m | \u001b[0m0.8764   \u001b[0m | \u001b[0m180.0    \u001b[0m | \u001b[0m0.251    \u001b[0m | \u001b[0m2.508    \u001b[0m | \u001b[0m4.208    \u001b[0m | \u001b[0m134.8    \u001b[0m |\n"
     ]
    },
    {
     "name": "stderr",
     "output_type": "stream",
     "text": [
      "/var/folders/nj/qv4q4t0d0yz8924lwlb0b73c0000gn/T/ipykernel_8569/2021403616.py:33: DataConversionWarning: A column-vector y was passed when a 1d array was expected. Please change the shape of y to (n_samples,), for example using ravel().\n",
      "  xtc_model = xtc.fit(X_smote, y_smote)\n"
     ]
    },
    {
     "name": "stdout",
     "output_type": "stream",
     "text": [
      "| \u001b[0m6        \u001b[0m | \u001b[0m0.8854   \u001b[0m | \u001b[0m0.09835  \u001b[0m | \u001b[0m90.01    \u001b[0m | \u001b[0m0.7747   \u001b[0m | \u001b[0m8.931    \u001b[0m | \u001b[0m10.99    \u001b[0m | \u001b[0m64.44    \u001b[0m |\n"
     ]
    },
    {
     "name": "stderr",
     "output_type": "stream",
     "text": [
      "/var/folders/nj/qv4q4t0d0yz8924lwlb0b73c0000gn/T/ipykernel_8569/2021403616.py:33: DataConversionWarning: A column-vector y was passed when a 1d array was expected. Please change the shape of y to (n_samples,), for example using ravel().\n",
      "  xtc_model = xtc.fit(X_smote, y_smote)\n"
     ]
    },
    {
     "name": "stdout",
     "output_type": "stream",
     "text": [
      "| \u001b[0m7        \u001b[0m | \u001b[0m0.8854   \u001b[0m | \u001b[0m0.753    \u001b[0m | \u001b[0m75.99    \u001b[0m | \u001b[0m0.6154   \u001b[0m | \u001b[0m8.275    \u001b[0m | \u001b[0m5.763    \u001b[0m | \u001b[0m109.7    \u001b[0m |\n"
     ]
    },
    {
     "name": "stderr",
     "output_type": "stream",
     "text": [
      "/var/folders/nj/qv4q4t0d0yz8924lwlb0b73c0000gn/T/ipykernel_8569/2021403616.py:33: DataConversionWarning: A column-vector y was passed when a 1d array was expected. Please change the shape of y to (n_samples,), for example using ravel().\n",
      "  xtc_model = xtc.fit(X_smote, y_smote)\n"
     ]
    },
    {
     "name": "stdout",
     "output_type": "stream",
     "text": [
      "| \u001b[0m8        \u001b[0m | \u001b[0m0.8854   \u001b[0m | \u001b[0m0.4562   \u001b[0m | \u001b[0m190.6    \u001b[0m | \u001b[0m0.5218   \u001b[0m | \u001b[0m13.89    \u001b[0m | \u001b[0m14.28    \u001b[0m | \u001b[0m58.43    \u001b[0m |\n"
     ]
    },
    {
     "name": "stderr",
     "output_type": "stream",
     "text": [
      "/var/folders/nj/qv4q4t0d0yz8924lwlb0b73c0000gn/T/ipykernel_8569/2021403616.py:33: DataConversionWarning: A column-vector y was passed when a 1d array was expected. Please change the shape of y to (n_samples,), for example using ravel().\n",
      "  xtc_model = xtc.fit(X_smote, y_smote)\n"
     ]
    },
    {
     "name": "stdout",
     "output_type": "stream",
     "text": [
      "| \u001b[0m9        \u001b[0m | \u001b[0m0.8854   \u001b[0m | \u001b[0m0.03179  \u001b[0m | \u001b[0m138.7    \u001b[0m | \u001b[0m0.2334   \u001b[0m | \u001b[0m8.505    \u001b[0m | \u001b[0m14.7     \u001b[0m | \u001b[0m78.46    \u001b[0m |\n"
     ]
    },
    {
     "name": "stderr",
     "output_type": "stream",
     "text": [
      "/var/folders/nj/qv4q4t0d0yz8924lwlb0b73c0000gn/T/ipykernel_8569/2021403616.py:33: DataConversionWarning: A column-vector y was passed when a 1d array was expected. Please change the shape of y to (n_samples,), for example using ravel().\n",
      "  xtc_model = xtc.fit(X_smote, y_smote)\n"
     ]
    },
    {
     "name": "stdout",
     "output_type": "stream",
     "text": [
      "| \u001b[0m10       \u001b[0m | \u001b[0m0.8854   \u001b[0m | \u001b[0m0.9676   \u001b[0m | \u001b[0m28.08    \u001b[0m | \u001b[0m0.6721   \u001b[0m | \u001b[0m3.691    \u001b[0m | \u001b[0m14.9     \u001b[0m | \u001b[0m56.17    \u001b[0m |\n"
     ]
    },
    {
     "name": "stderr",
     "output_type": "stream",
     "text": [
      "/var/folders/nj/qv4q4t0d0yz8924lwlb0b73c0000gn/T/ipykernel_8569/2021403616.py:33: DataConversionWarning: A column-vector y was passed when a 1d array was expected. Please change the shape of y to (n_samples,), for example using ravel().\n",
      "  xtc_model = xtc.fit(X_smote, y_smote)\n"
     ]
    },
    {
     "name": "stdout",
     "output_type": "stream",
     "text": [
      "| \u001b[0m11       \u001b[0m | \u001b[0m0.8854   \u001b[0m | \u001b[0m0.577    \u001b[0m | \u001b[0m12.59    \u001b[0m | \u001b[0m0.4263   \u001b[0m | \u001b[0m5.048    \u001b[0m | \u001b[0m4.972    \u001b[0m | \u001b[0m149.9    \u001b[0m |\n"
     ]
    },
    {
     "name": "stderr",
     "output_type": "stream",
     "text": [
      "/var/folders/nj/qv4q4t0d0yz8924lwlb0b73c0000gn/T/ipykernel_8569/2021403616.py:33: DataConversionWarning: A column-vector y was passed when a 1d array was expected. Please change the shape of y to (n_samples,), for example using ravel().\n",
      "  xtc_model = xtc.fit(X_smote, y_smote)\n"
     ]
    },
    {
     "name": "stdout",
     "output_type": "stream",
     "text": [
      "| \u001b[0m12       \u001b[0m | \u001b[0m0.8854   \u001b[0m | \u001b[0m0.9307   \u001b[0m | \u001b[0m64.65    \u001b[0m | \u001b[0m0.4157   \u001b[0m | \u001b[0m7.892    \u001b[0m | \u001b[0m4.586    \u001b[0m | \u001b[0m25.0     \u001b[0m |\n"
     ]
    },
    {
     "name": "stderr",
     "output_type": "stream",
     "text": [
      "/var/folders/nj/qv4q4t0d0yz8924lwlb0b73c0000gn/T/ipykernel_8569/2021403616.py:33: DataConversionWarning: A column-vector y was passed when a 1d array was expected. Please change the shape of y to (n_samples,), for example using ravel().\n",
      "  xtc_model = xtc.fit(X_smote, y_smote)\n"
     ]
    },
    {
     "name": "stdout",
     "output_type": "stream",
     "text": [
      "| \u001b[0m13       \u001b[0m | \u001b[0m0.8854   \u001b[0m | \u001b[0m0.4355   \u001b[0m | \u001b[0m10.28    \u001b[0m | \u001b[0m0.6874   \u001b[0m | \u001b[0m9.594    \u001b[0m | \u001b[0m9.501    \u001b[0m | \u001b[0m93.39    \u001b[0m |\n"
     ]
    },
    {
     "name": "stderr",
     "output_type": "stream",
     "text": [
      "/var/folders/nj/qv4q4t0d0yz8924lwlb0b73c0000gn/T/ipykernel_8569/2021403616.py:33: DataConversionWarning: A column-vector y was passed when a 1d array was expected. Please change the shape of y to (n_samples,), for example using ravel().\n",
      "  xtc_model = xtc.fit(X_smote, y_smote)\n"
     ]
    },
    {
     "name": "stdout",
     "output_type": "stream",
     "text": [
      "| \u001b[0m14       \u001b[0m | \u001b[0m0.8848   \u001b[0m | \u001b[0m0.9592   \u001b[0m | \u001b[0m59.42    \u001b[0m | \u001b[0m0.3419   \u001b[0m | \u001b[0m2.39     \u001b[0m | \u001b[0m3.159    \u001b[0m | \u001b[0m149.9    \u001b[0m |\n"
     ]
    },
    {
     "name": "stderr",
     "output_type": "stream",
     "text": [
      "/var/folders/nj/qv4q4t0d0yz8924lwlb0b73c0000gn/T/ipykernel_8569/2021403616.py:33: DataConversionWarning: A column-vector y was passed when a 1d array was expected. Please change the shape of y to (n_samples,), for example using ravel().\n",
      "  xtc_model = xtc.fit(X_smote, y_smote)\n"
     ]
    },
    {
     "name": "stdout",
     "output_type": "stream",
     "text": [
      "| \u001b[0m15       \u001b[0m | \u001b[0m0.8854   \u001b[0m | \u001b[0m0.03354  \u001b[0m | \u001b[0m53.7     \u001b[0m | \u001b[0m0.7086   \u001b[0m | \u001b[0m12.24    \u001b[0m | \u001b[0m14.18    \u001b[0m | \u001b[0m79.84    \u001b[0m |\n"
     ]
    },
    {
     "name": "stderr",
     "output_type": "stream",
     "text": [
      "/var/folders/nj/qv4q4t0d0yz8924lwlb0b73c0000gn/T/ipykernel_8569/2021403616.py:33: DataConversionWarning: A column-vector y was passed when a 1d array was expected. Please change the shape of y to (n_samples,), for example using ravel().\n",
      "  xtc_model = xtc.fit(X_smote, y_smote)\n"
     ]
    },
    {
     "name": "stdout",
     "output_type": "stream",
     "text": [
      "| \u001b[0m16       \u001b[0m | \u001b[0m0.8854   \u001b[0m | \u001b[0m0.7881   \u001b[0m | \u001b[0m109.1    \u001b[0m | \u001b[0m0.6655   \u001b[0m | \u001b[0m14.16    \u001b[0m | \u001b[0m11.56    \u001b[0m | \u001b[0m26.6     \u001b[0m |\n"
     ]
    },
    {
     "name": "stderr",
     "output_type": "stream",
     "text": [
      "/var/folders/nj/qv4q4t0d0yz8924lwlb0b73c0000gn/T/ipykernel_8569/2021403616.py:33: DataConversionWarning: A column-vector y was passed when a 1d array was expected. Please change the shape of y to (n_samples,), for example using ravel().\n",
      "  xtc_model = xtc.fit(X_smote, y_smote)\n"
     ]
    },
    {
     "name": "stdout",
     "output_type": "stream",
     "text": [
      "| \u001b[0m17       \u001b[0m | \u001b[0m0.8854   \u001b[0m | \u001b[0m0.1739   \u001b[0m | \u001b[0m13.21    \u001b[0m | \u001b[0m0.6866   \u001b[0m | \u001b[0m14.15    \u001b[0m | \u001b[0m7.761    \u001b[0m | \u001b[0m26.55    \u001b[0m |\n"
     ]
    },
    {
     "name": "stderr",
     "output_type": "stream",
     "text": [
      "/var/folders/nj/qv4q4t0d0yz8924lwlb0b73c0000gn/T/ipykernel_8569/2021403616.py:33: DataConversionWarning: A column-vector y was passed when a 1d array was expected. Please change the shape of y to (n_samples,), for example using ravel().\n",
      "  xtc_model = xtc.fit(X_smote, y_smote)\n"
     ]
    },
    {
     "name": "stdout",
     "output_type": "stream",
     "text": [
      "| \u001b[0m18       \u001b[0m | \u001b[0m0.8834   \u001b[0m | \u001b[0m0.1249   \u001b[0m | \u001b[0m199.8    \u001b[0m | \u001b[0m0.7704   \u001b[0m | \u001b[0m4.18     \u001b[0m | \u001b[0m3.511    \u001b[0m | \u001b[0m25.62    \u001b[0m |\n"
     ]
    },
    {
     "name": "stderr",
     "output_type": "stream",
     "text": [
      "/var/folders/nj/qv4q4t0d0yz8924lwlb0b73c0000gn/T/ipykernel_8569/2021403616.py:33: DataConversionWarning: A column-vector y was passed when a 1d array was expected. Please change the shape of y to (n_samples,), for example using ravel().\n",
      "  xtc_model = xtc.fit(X_smote, y_smote)\n"
     ]
    },
    {
     "name": "stdout",
     "output_type": "stream",
     "text": [
      "| \u001b[0m19       \u001b[0m | \u001b[0m0.8854   \u001b[0m | \u001b[0m0.6583   \u001b[0m | \u001b[0m117.4    \u001b[0m | \u001b[0m0.3806   \u001b[0m | \u001b[0m14.6     \u001b[0m | \u001b[0m3.563    \u001b[0m | \u001b[0m111.7    \u001b[0m |\n"
     ]
    },
    {
     "name": "stderr",
     "output_type": "stream",
     "text": [
      "/var/folders/nj/qv4q4t0d0yz8924lwlb0b73c0000gn/T/ipykernel_8569/2021403616.py:33: DataConversionWarning: A column-vector y was passed when a 1d array was expected. Please change the shape of y to (n_samples,), for example using ravel().\n",
      "  xtc_model = xtc.fit(X_smote, y_smote)\n"
     ]
    },
    {
     "name": "stdout",
     "output_type": "stream",
     "text": [
      "| \u001b[0m20       \u001b[0m | \u001b[0m0.8854   \u001b[0m | \u001b[0m0.6125   \u001b[0m | \u001b[0m161.4    \u001b[0m | \u001b[0m0.7979   \u001b[0m | \u001b[0m14.73    \u001b[0m | \u001b[0m2.222    \u001b[0m | \u001b[0m67.26    \u001b[0m |\n"
     ]
    },
    {
     "name": "stderr",
     "output_type": "stream",
     "text": [
      "/var/folders/nj/qv4q4t0d0yz8924lwlb0b73c0000gn/T/ipykernel_8569/2021403616.py:33: DataConversionWarning: A column-vector y was passed when a 1d array was expected. Please change the shape of y to (n_samples,), for example using ravel().\n",
      "  xtc_model = xtc.fit(X_smote, y_smote)\n"
     ]
    },
    {
     "name": "stdout",
     "output_type": "stream",
     "text": [
      "| \u001b[0m21       \u001b[0m | \u001b[0m0.8854   \u001b[0m | \u001b[0m0.666    \u001b[0m | \u001b[0m120.9    \u001b[0m | \u001b[0m0.6202   \u001b[0m | \u001b[0m5.167    \u001b[0m | \u001b[0m13.84    \u001b[0m | \u001b[0m148.6    \u001b[0m |\n"
     ]
    },
    {
     "name": "stderr",
     "output_type": "stream",
     "text": [
      "/var/folders/nj/qv4q4t0d0yz8924lwlb0b73c0000gn/T/ipykernel_8569/2021403616.py:33: DataConversionWarning: A column-vector y was passed when a 1d array was expected. Please change the shape of y to (n_samples,), for example using ravel().\n",
      "  xtc_model = xtc.fit(X_smote, y_smote)\n"
     ]
    },
    {
     "name": "stdout",
     "output_type": "stream",
     "text": [
      "| \u001b[0m22       \u001b[0m | \u001b[0m0.8854   \u001b[0m | \u001b[0m0.7727   \u001b[0m | \u001b[0m199.7    \u001b[0m | \u001b[0m0.2963   \u001b[0m | \u001b[0m14.45    \u001b[0m | \u001b[0m14.77    \u001b[0m | \u001b[0m86.95    \u001b[0m |\n"
     ]
    },
    {
     "name": "stderr",
     "output_type": "stream",
     "text": [
      "/var/folders/nj/qv4q4t0d0yz8924lwlb0b73c0000gn/T/ipykernel_8569/2021403616.py:33: DataConversionWarning: A column-vector y was passed when a 1d array was expected. Please change the shape of y to (n_samples,), for example using ravel().\n",
      "  xtc_model = xtc.fit(X_smote, y_smote)\n"
     ]
    },
    {
     "name": "stdout",
     "output_type": "stream",
     "text": [
      "| \u001b[0m23       \u001b[0m | \u001b[0m0.8846   \u001b[0m | \u001b[0m0.8998   \u001b[0m | \u001b[0m118.3    \u001b[0m | \u001b[0m0.7619   \u001b[0m | \u001b[0m4.164    \u001b[0m | \u001b[0m2.678    \u001b[0m | \u001b[0m54.63    \u001b[0m |\n"
     ]
    },
    {
     "name": "stderr",
     "output_type": "stream",
     "text": [
      "/var/folders/nj/qv4q4t0d0yz8924lwlb0b73c0000gn/T/ipykernel_8569/2021403616.py:33: DataConversionWarning: A column-vector y was passed when a 1d array was expected. Please change the shape of y to (n_samples,), for example using ravel().\n",
      "  xtc_model = xtc.fit(X_smote, y_smote)\n"
     ]
    },
    {
     "name": "stdout",
     "output_type": "stream",
     "text": [
      "| \u001b[0m24       \u001b[0m | \u001b[0m0.8854   \u001b[0m | \u001b[0m0.6868   \u001b[0m | \u001b[0m60.98    \u001b[0m | \u001b[0m0.3729   \u001b[0m | \u001b[0m5.697    \u001b[0m | \u001b[0m14.25    \u001b[0m | \u001b[0m51.91    \u001b[0m |\n"
     ]
    },
    {
     "name": "stderr",
     "output_type": "stream",
     "text": [
      "/var/folders/nj/qv4q4t0d0yz8924lwlb0b73c0000gn/T/ipykernel_8569/2021403616.py:33: DataConversionWarning: A column-vector y was passed when a 1d array was expected. Please change the shape of y to (n_samples,), for example using ravel().\n",
      "  xtc_model = xtc.fit(X_smote, y_smote)\n"
     ]
    },
    {
     "name": "stdout",
     "output_type": "stream",
     "text": [
      "| \u001b[0m25       \u001b[0m | \u001b[0m0.8854   \u001b[0m | \u001b[0m0.4731   \u001b[0m | \u001b[0m12.88    \u001b[0m | \u001b[0m0.5155   \u001b[0m | \u001b[0m14.35    \u001b[0m | \u001b[0m2.026    \u001b[0m | \u001b[0m120.5    \u001b[0m |\n"
     ]
    },
    {
     "name": "stderr",
     "output_type": "stream",
     "text": [
      "/var/folders/nj/qv4q4t0d0yz8924lwlb0b73c0000gn/T/ipykernel_8569/2021403616.py:33: DataConversionWarning: A column-vector y was passed when a 1d array was expected. Please change the shape of y to (n_samples,), for example using ravel().\n",
      "  xtc_model = xtc.fit(X_smote, y_smote)\n"
     ]
    },
    {
     "name": "stdout",
     "output_type": "stream",
     "text": [
      "| \u001b[0m26       \u001b[0m | \u001b[0m0.8854   \u001b[0m | \u001b[0m0.1315   \u001b[0m | \u001b[0m146.8    \u001b[0m | \u001b[0m0.2745   \u001b[0m | \u001b[0m14.3     \u001b[0m | \u001b[0m14.77    \u001b[0m | \u001b[0m107.0    \u001b[0m |\n"
     ]
    },
    {
     "name": "stderr",
     "output_type": "stream",
     "text": [
      "/var/folders/nj/qv4q4t0d0yz8924lwlb0b73c0000gn/T/ipykernel_8569/2021403616.py:33: DataConversionWarning: A column-vector y was passed when a 1d array was expected. Please change the shape of y to (n_samples,), for example using ravel().\n",
      "  xtc_model = xtc.fit(X_smote, y_smote)\n"
     ]
    },
    {
     "name": "stdout",
     "output_type": "stream",
     "text": [
      "| \u001b[0m27       \u001b[0m | \u001b[0m0.8854   \u001b[0m | \u001b[0m0.5677   \u001b[0m | \u001b[0m97.1     \u001b[0m | \u001b[0m0.4482   \u001b[0m | \u001b[0m14.56    \u001b[0m | \u001b[0m14.23    \u001b[0m | \u001b[0m95.2     \u001b[0m |\n"
     ]
    },
    {
     "name": "stderr",
     "output_type": "stream",
     "text": [
      "/var/folders/nj/qv4q4t0d0yz8924lwlb0b73c0000gn/T/ipykernel_8569/2021403616.py:33: DataConversionWarning: A column-vector y was passed when a 1d array was expected. Please change the shape of y to (n_samples,), for example using ravel().\n",
      "  xtc_model = xtc.fit(X_smote, y_smote)\n"
     ]
    },
    {
     "name": "stdout",
     "output_type": "stream",
     "text": [
      "| \u001b[0m28       \u001b[0m | \u001b[0m0.8846   \u001b[0m | \u001b[0m0.9857   \u001b[0m | \u001b[0m41.66    \u001b[0m | \u001b[0m0.4763   \u001b[0m | \u001b[0m3.921    \u001b[0m | \u001b[0m13.35    \u001b[0m | \u001b[0m25.55    \u001b[0m |\n"
     ]
    },
    {
     "name": "stderr",
     "output_type": "stream",
     "text": [
      "/var/folders/nj/qv4q4t0d0yz8924lwlb0b73c0000gn/T/ipykernel_8569/2021403616.py:33: DataConversionWarning: A column-vector y was passed when a 1d array was expected. Please change the shape of y to (n_samples,), for example using ravel().\n",
      "  xtc_model = xtc.fit(X_smote, y_smote)\n"
     ]
    },
    {
     "name": "stdout",
     "output_type": "stream",
     "text": [
      "| \u001b[0m29       \u001b[0m | \u001b[0m0.8854   \u001b[0m | \u001b[0m0.7889   \u001b[0m | \u001b[0m84.06    \u001b[0m | \u001b[0m0.6232   \u001b[0m | \u001b[0m14.02    \u001b[0m | \u001b[0m7.759    \u001b[0m | \u001b[0m35.27    \u001b[0m |\n"
     ]
    },
    {
     "name": "stderr",
     "output_type": "stream",
     "text": [
      "/var/folders/nj/qv4q4t0d0yz8924lwlb0b73c0000gn/T/ipykernel_8569/2021403616.py:33: DataConversionWarning: A column-vector y was passed when a 1d array was expected. Please change the shape of y to (n_samples,), for example using ravel().\n",
      "  xtc_model = xtc.fit(X_smote, y_smote)\n"
     ]
    },
    {
     "name": "stdout",
     "output_type": "stream",
     "text": [
      "| \u001b[0m30       \u001b[0m | \u001b[0m0.8854   \u001b[0m | \u001b[0m0.1104   \u001b[0m | \u001b[0m10.87    \u001b[0m | \u001b[0m0.5453   \u001b[0m | \u001b[0m11.64    \u001b[0m | \u001b[0m2.93     \u001b[0m | \u001b[0m60.88    \u001b[0m |\n"
     ]
    },
    {
     "name": "stderr",
     "output_type": "stream",
     "text": [
      "/var/folders/nj/qv4q4t0d0yz8924lwlb0b73c0000gn/T/ipykernel_8569/2021403616.py:33: DataConversionWarning: A column-vector y was passed when a 1d array was expected. Please change the shape of y to (n_samples,), for example using ravel().\n",
      "  xtc_model = xtc.fit(X_smote, y_smote)\n"
     ]
    },
    {
     "name": "stdout",
     "output_type": "stream",
     "text": [
      "| \u001b[0m31       \u001b[0m | \u001b[0m0.8854   \u001b[0m | \u001b[0m0.5438   \u001b[0m | \u001b[0m34.51    \u001b[0m | \u001b[0m0.3175   \u001b[0m | \u001b[0m3.375    \u001b[0m | \u001b[0m2.452    \u001b[0m | \u001b[0m92.0     \u001b[0m |\n",
      "=================================================================================================\n"
     ]
    }
   ],
   "source": [
    "xtcBO.maximize(init_points=6, \n",
    "               n_iter=25,\n",
    "               acq = 'ucb',\n",
    "               xi = 0.0,\n",
    "               alpha = 1e-6)"
   ]
  },
  {
   "cell_type": "code",
   "execution_count": 126,
   "metadata": {},
   "outputs": [
    {
     "data": {
      "text/plain": [
       "{'target': 0.8853809196980096,\n",
       " 'params': {'bootstrap': 0.417022004702574,\n",
       "  'max_depth': 146.86165375401004,\n",
       "  'max_features': 0.20006862489040694,\n",
       "  'min_samples_leaf': 5.930323444213917,\n",
       "  'min_samples_split': 3.9078265806224697,\n",
       "  'n_estimators': 36.542324346099726}}"
      ]
     },
     "execution_count": 126,
     "metadata": {},
     "output_type": "execute_result"
    }
   ],
   "source": [
    "# Best Hyperparameters selected\n",
    "xtcBO.max"
   ]
  },
  {
   "cell_type": "code",
   "execution_count": 127,
   "metadata": {},
   "outputs": [
    {
     "name": "stderr",
     "output_type": "stream",
     "text": [
      "/var/folders/nj/qv4q4t0d0yz8924lwlb0b73c0000gn/T/ipykernel_8569/1080922815.py:10: DataConversionWarning: A column-vector y was passed when a 1d array was expected. Please change the shape of y to (n_samples,), for example using ravel().\n",
      "  xtc_tuned_model = xtc_tuned.fit(X_smote, y_smote)\n"
     ]
    },
    {
     "name": "stdout",
     "output_type": "stream",
     "text": [
      "=====================train====================\n",
      "accuracy: 0.94623\n",
      "precision (macro): 0.948\n",
      "recall (macro): 0.92542\n",
      "f1 score (macro): 0.93562\n",
      "f1 score of class 1: 0.90949\n",
      "f1 score of class 0: 0.96175\n",
      "pr auc score of class 1: 0.9933\n",
      "pr auc score of class 0: 0.47355\n",
      "=====================val====================\n",
      "accuracy: 0.94209\n",
      "precision (macro): 0.94529\n",
      "recall (macro): 0.90615\n",
      "f1 score (macro): 0.92332\n",
      "f1 score of class 1: 0.88538\n",
      "f1 score of class 0: 0.96126\n",
      "pr auc score of class 1: 0.86589\n",
      "pr auc score of class 0: 0.53606\n",
      "=====================test====================\n",
      "accuracy: 0.94313\n",
      "precision (macro): 0.94378\n",
      "recall (macro): 0.9101\n",
      "f1 score (macro): 0.92514\n",
      "f1 score of class 1: 0.88844\n",
      "f1 score of class 0: 0.96184\n",
      "pr auc score of class 1: 0.86655\n",
      "pr auc score of class 0: 0.53339\n"
     ]
    }
   ],
   "source": [
    "xtc_tuned = ExtraTreesClassifier(n_estimators = int(xtcBO.max['params']['n_estimators']),\n",
    "                                    max_depth = int(xtcBO.max['params']['max_depth']),\n",
    "                                    min_samples_split = int(xtcBO.max['params']['min_samples_split']),  \n",
    "                                    min_samples_leaf = int(xtcBO.max['params']['min_samples_leaf']),\n",
    "                                    max_features =  xtcBO.max['params']['max_features'],                 \n",
    "                                    bootstrap = xtcBO.max['params']['bootstrap'] > 0.5,\n",
    "                                    oob_score = xtcBO.max['params']['bootstrap'] > 0.5,\n",
    "                                    n_jobs=6)\n",
    "\n",
    "xtc_tuned_model = xtc_tuned.fit(X_smote, y_smote)\n",
    "\n",
    "y_pred_train = xtc_tuned_model.predict(X_smote)\n",
    "y_pred_train_proba = xtc_tuned_model.predict_proba(X_smote)[:, 1]\n",
    "print_statistics(y_smote, y_pred_train, y_pred_train_proba, 'train')\n",
    "\n",
    "y_pred_val = xtc_tuned_model.predict(X_val)\n",
    "y_pred_val_proba = xtc_tuned_model.predict_proba(X_val)[:, 1]\n",
    "print_statistics(y_val, y_pred_val, y_pred_val_proba, 'val')\n",
    "\n",
    "y_pred_test = xtc_tuned_model.predict(X_test)\n",
    "y_pred_test_proba = xtc_tuned_model.predict_proba(X_test)[:, 1]\n",
    "print_statistics(y_test, y_pred_test, y_pred_test_proba, 'test')"
   ]
  }
 ],
 "metadata": {
  "kernelspec": {
   "display_name": "Python 3.9.12 ('base')",
   "language": "python",
   "name": "python3"
  },
  "language_info": {
   "codemirror_mode": {
    "name": "ipython",
    "version": 3
   },
   "file_extension": ".py",
   "mimetype": "text/x-python",
   "name": "python",
   "nbconvert_exporter": "python",
   "pygments_lexer": "ipython3",
   "version": "3.9.12"
  },
  "orig_nbformat": 4,
  "vscode": {
   "interpreter": {
    "hash": "978f330f18f09b96c963e3c91a07e0012914276ff7638db23c1ba2d61898b52b"
   }
  }
 },
 "nbformat": 4,
 "nbformat_minor": 2
}
