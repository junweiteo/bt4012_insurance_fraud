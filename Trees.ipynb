{
 "cells": [
  {
   "cell_type": "code",
   "execution_count": 1,
   "metadata": {},
   "outputs": [],
   "source": [
    "# !pip3 install bayesian-optimization"
   ]
  },
  {
   "cell_type": "code",
   "execution_count": 24,
   "metadata": {},
   "outputs": [],
   "source": [
    "import pandas as pd\n",
    "import numpy as np\n",
    "import matplotlib.pyplot as plt\n",
    "import seaborn as sns\n",
    "\n",
    "from imblearn.over_sampling import SMOTE\n",
    "from collections import Counter\n",
    "\n",
    "from sklearn.model_selection import train_test_split\n",
    "from sklearn import metrics as skmetrics\n",
    "from sklearn.ensemble import RandomForestClassifier\n",
    "from sklearn.ensemble import ExtraTreesClassifier\n",
    "\n",
    "from bayes_opt import BayesianOptimization"
   ]
  },
  {
   "cell_type": "code",
   "execution_count": 25,
   "metadata": {},
   "outputs": [],
   "source": [
    "pd.options.display.max_rows = 100\n",
    "pd.options.display.max_columns = 200\n",
    "sns.set(rc={'figure.figsize':(5,10)})\n"
   ]
  },
  {
   "cell_type": "code",
   "execution_count": 26,
   "metadata": {},
   "outputs": [],
   "source": [
    "X_smote = pd.read_csv('data/X_smote.csv')\n",
    "y_smote = pd.read_csv('data/y_smote.csv')\n",
    "\n",
    "X_val = pd.read_csv('data/X_val.csv')\n",
    "y_val = pd.read_csv('data/y_val.csv')\n",
    "\n",
    "X_test = pd.read_csv('data/X_test.csv')\n",
    "y_test = pd.read_csv('data/y_test.csv')"
   ]
  },
  {
   "cell_type": "code",
   "execution_count": 27,
   "metadata": {},
   "outputs": [],
   "source": [
    "def print_statistics(y_actual, y_pred, y_pred_prob, dataset_type):\n",
    "  print(f\"====================={dataset_type}====================\")\n",
    "  print(f\"accuracy: {round(skmetrics.accuracy_score(y_actual, y_pred),5)}\")\n",
    "  print(f\"precision: {round(skmetrics.precision_score(y_actual, y_pred),5)}\")\n",
    "  print(f\"recall: {round(skmetrics.recall_score(y_actual, y_pred),5)}\")\n",
    "  print(f\"f1 score: {round(skmetrics.f1_score(y_actual, y_pred),5)}\")\n",
    "  prec, recall, thresholds = skmetrics.precision_recall_curve(y_actual, y_pred_prob)\n",
    "  print(f'pr auc: {round(skmetrics.auc(recall, prec), 5)}')\n"
   ]
  },
  {
   "cell_type": "markdown",
   "metadata": {},
   "source": [
    "## Random Forest"
   ]
  },
  {
   "cell_type": "code",
   "execution_count": 28,
   "metadata": {},
   "outputs": [
    {
     "name": "stderr",
     "output_type": "stream",
     "text": [
      "/var/folders/nj/qv4q4t0d0yz8924lwlb0b73c0000gn/T/ipykernel_8569/2399065869.py:2: DataConversionWarning: A column-vector y was passed when a 1d array was expected. Please change the shape of y to (n_samples,), for example using ravel().\n",
      "  rf_model = rf.fit(X_smote, y_smote)\n"
     ]
    },
    {
     "name": "stdout",
     "output_type": "stream",
     "text": [
      "=====================train====================\n",
      "accuracy: 1.0\n",
      "precision: 1.0\n",
      "recall: 1.0\n",
      "f1 score: 1.0\n",
      "pr auc: 1.0\n",
      "=====================val====================\n",
      "accuracy: 0.92329\n",
      "precision: 0.93721\n",
      "recall: 0.76735\n",
      "f1 score: 0.84382\n",
      "pr auc: 0.85048\n",
      "=====================test====================\n",
      "accuracy: 0.92746\n",
      "precision: 0.92148\n",
      "recall: 0.79949\n",
      "f1 score: 0.85616\n",
      "pr auc: 0.87201\n"
     ]
    }
   ],
   "source": [
    "rf = RandomForestClassifier()\n",
    "rf_model = rf.fit(X_smote, y_smote)\n",
    "\n",
    "y_pred_train = rf_model.predict(X_smote)\n",
    "y_pred_train_proba = rf_model.predict_proba(X_smote)[:, 1]\n",
    "print_statistics(y_smote, y_pred_train, y_pred_train_proba, 'train')\n",
    "\n",
    "y_pred_val = rf_model.predict(X_val)\n",
    "y_pred_val_proba = rf_model.predict_proba(X_val)[:, 1]\n",
    "print_statistics(y_val, y_pred_val, y_pred_val_proba, 'val')\n",
    "\n",
    "y_pred_test = rf_model.predict(X_test)\n",
    "y_pred_test_proba = rf_model.predict_proba(X_test)[:, 1]\n",
    "print_statistics(y_test, y_pred_test, y_pred_test_proba, 'test')"
   ]
  },
  {
   "cell_type": "markdown",
   "metadata": {},
   "source": [
    "## Extra Trees Classifier"
   ]
  },
  {
   "cell_type": "code",
   "execution_count": 29,
   "metadata": {},
   "outputs": [
    {
     "name": "stderr",
     "output_type": "stream",
     "text": [
      "/var/folders/nj/qv4q4t0d0yz8924lwlb0b73c0000gn/T/ipykernel_8569/433721700.py:2: DataConversionWarning: A column-vector y was passed when a 1d array was expected. Please change the shape of y to (n_samples,), for example using ravel().\n",
      "  xtc_model = xtc.fit(X_smote, y_smote)\n"
     ]
    },
    {
     "name": "stdout",
     "output_type": "stream",
     "text": [
      "=====================train====================\n",
      "accuracy: 1.0\n",
      "precision: 1.0\n",
      "recall: 1.0\n",
      "f1 score: 1.0\n",
      "pr auc: 1.0\n",
      "=====================val====================\n",
      "accuracy: 0.92086\n",
      "precision: 0.92969\n",
      "recall: 0.76478\n",
      "f1 score: 0.83921\n",
      "pr auc: 0.8595\n",
      "=====================test====================\n",
      "accuracy: 0.91114\n",
      "precision: 0.8827\n",
      "recall: 0.77378\n",
      "f1 score: 0.82466\n",
      "pr auc: 0.86764\n"
     ]
    }
   ],
   "source": [
    "xtc = ExtraTreesClassifier()\n",
    "xtc_model = xtc.fit(X_smote, y_smote)\n",
    "\n",
    "y_pred_train = xtc_model.predict(X_smote)\n",
    "y_pred_train_proba = xtc_model.predict_proba(X_smote)[:, 1]\n",
    "print_statistics(y_smote, y_pred_train, y_pred_train_proba, 'train')\n",
    "\n",
    "y_pred_val = xtc_model.predict(X_val)\n",
    "y_pred_val_proba = xtc_model.predict_proba(X_val)[:, 1]\n",
    "print_statistics(y_val, y_pred_val, y_pred_val_proba, 'val')\n",
    "\n",
    "y_pred_test = xtc_model.predict(X_test)\n",
    "y_pred_test_proba = xtc_model.predict_proba(X_test)[:, 1]\n",
    "print_statistics(y_test, y_pred_test, y_pred_test_proba, 'test')"
   ]
  },
  {
   "cell_type": "markdown",
   "metadata": {},
   "source": [
    "## Tune the ExtraTrees classifier"
   ]
  },
  {
   "cell_type": "code",
   "execution_count": 50,
   "metadata": {},
   "outputs": [
    {
     "data": {
      "image/png": "[encoded data removed]",
      "text/plain": [
       "<Figure size 720x360 with 1 Axes>"
      ]
     },
     "metadata": {},
     "output_type": "display_data"
    }
   ],
   "source": [
    "feature_names = [f\"{X_smote.columns[i]}\" for i in range(X_smote.shape[1])]\n",
    "\n",
    "importances = xtc_model.feature_importances_\n",
    "\n",
    "forest_importances = pd.DataFrame({'feature': feature_names,\n",
    "                                    'importance': importances}\n",
    "                                    )\n",
    "forest_importances = forest_importances.sort_values('importance', ascending=False)\n",
    "forest_importances = forest_importances[:20] # top 20\n",
    "\n",
    "fig, ax = plt.subplots(1,1)\n",
    "sns.set(rc={'figure.figsize':(10,5)})\n",
    "sns.barplot(y='feature', x='importance', ax=ax, data=forest_importances, orient=\"h\")\n",
    "ax.set_title(\"Top 20 features for ExtraTrees\")\n",
    "ax.set_xlabel(\"Mean decrease in impurity\")\n",
    "ax.set_ylabel(\"Feature\")\n",
    "fig.tight_layout()"
   ]
  },
  {
   "cell_type": "markdown",
   "metadata": {},
   "source": [
    "## Bayesian optimization of ExtraTrees for hyperparameter tuning"
   ]
  },
  {
   "cell_type": "code",
   "execution_count": 54,
   "metadata": {},
   "outputs": [],
   "source": [
    "seed = 1\n",
    "\n",
    "def extratrees(n_estimators,\n",
    "                max_depth,\n",
    "                min_samples_split,\n",
    "                min_samples_leaf,\n",
    "                max_features,\n",
    "                bootstrap):\n",
    "\n",
    "    n_estimators = int(n_estimators)\n",
    "    max_depth = int(max_depth) # Pre-pruning technique\n",
    "    min_samples_split = int(min_samples_split) # Pre-pruning technique\n",
    "    min_samples_leaf = int(min_samples_leaf) # Pre-pruning technique\n",
    "    bootstrap = bootstrap > 0.5\n",
    "    \n",
    "    assert type(n_estimators) == int\n",
    "    assert type(max_depth) == int\n",
    "    assert type(min_samples_split) == int\n",
    "    assert type(min_samples_leaf) == int\n",
    "\n",
    "\n",
    "    xtc = ExtraTreesClassifier(n_estimators=n_estimators,\n",
    "                               max_depth=max_depth,\n",
    "                               min_samples_split=min_samples_split,\n",
    "                               min_samples_leaf=min_samples_leaf,\n",
    "                               max_features=max_features,\n",
    "                               bootstrap=bootstrap,\n",
    "                               oob_score=bootstrap,\n",
    "                               n_jobs=6,\n",
    "                               random_state=seed,\n",
    "                               verbose=0)\n",
    "\n",
    "    xtc_model = xtc.fit(X_smote, y_smote)\n",
    "    # use validation set to evaluate performance - F1 is our main metric\n",
    "    y_pred_val = xtc_model.predict(X_val)\n",
    "    return skmetrics.f1_score(y_val, y_pred_val)"
   ]
  },
  {
   "cell_type": "code",
   "execution_count": 65,
   "metadata": {},
   "outputs": [
    {
     "name": "stdout",
     "output_type": "stream",
     "text": [
      "['bootstrap', 'max_depth', 'max_features', 'min_samples_leaf', 'min_samples_split', 'n_estimators']\n"
     ]
    }
   ],
   "source": [
    "# space to search\n",
    "# params = {'n_estimators': (25, 251),\n",
    "params = {'n_estimators': (25, 150),\n",
    "          'max_depth' : (10, 200),\n",
    "          'min_samples_split': (2,15),\n",
    "          'min_samples_leaf' : (2,15),\n",
    "          'max_features' : (.2,.8),\n",
    "          'bootstrap':(0,1),\n",
    "          } \n",
    "\n",
    "xtcBO = BayesianOptimization(extratrees, \n",
    "                            pbounds = params, \n",
    "                            random_state = seed)\n",
    "\n",
    "print(xtcBO.space.keys)"
   ]
  },
  {
   "cell_type": "code",
   "execution_count": 66,
   "metadata": {},
   "outputs": [
    {
     "name": "stdout",
     "output_type": "stream",
     "text": [
      "|   iter    |  target   | bootstrap | max_depth | max_fe... | min_sa... | min_sa... | n_esti... |\n",
      "-------------------------------------------------------------------------------------------------\n"
     ]
    },
    {
     "name": "stderr",
     "output_type": "stream",
     "text": [
      "/var/folders/nj/qv4q4t0d0yz8924lwlb0b73c0000gn/T/ipykernel_8569/2021403616.py:33: DataConversionWarning: A column-vector y was passed when a 1d array was expected. Please change the shape of y to (n_samples,), for example using ravel().\n",
      "  xtc_model = xtc.fit(X_smote, y_smote)\n"
     ]
    },
    {
     "name": "stdout",
     "output_type": "stream",
     "text": [
      "| \u001b[0m1        \u001b[0m | \u001b[0m0.8165   \u001b[0m | \u001b[0m0.417    \u001b[0m | \u001b[0m146.9    \u001b[0m | \u001b[0m0.2001   \u001b[0m | \u001b[0m5.93     \u001b[0m | \u001b[0m3.908    \u001b[0m | \u001b[0m36.54    \u001b[0m |\n"
     ]
    },
    {
     "name": "stderr",
     "output_type": "stream",
     "text": [
      "/var/folders/nj/qv4q4t0d0yz8924lwlb0b73c0000gn/T/ipykernel_8569/2021403616.py:33: DataConversionWarning: A column-vector y was passed when a 1d array was expected. Please change the shape of y to (n_samples,), for example using ravel().\n",
      "  xtc_model = xtc.fit(X_smote, y_smote)\n"
     ]
    },
    {
     "name": "stdout",
     "output_type": "stream",
     "text": [
      "| \u001b[0m2        \u001b[0m | \u001b[0m0.8017   \u001b[0m | \u001b[0m0.1863   \u001b[0m | \u001b[0m75.66    \u001b[0m | \u001b[0m0.4381   \u001b[0m | \u001b[0m9.005    \u001b[0m | \u001b[0m7.45     \u001b[0m | \u001b[0m110.7    \u001b[0m |\n"
     ]
    },
    {
     "name": "stderr",
     "output_type": "stream",
     "text": [
      "/var/folders/nj/qv4q4t0d0yz8924lwlb0b73c0000gn/T/ipykernel_8569/2021403616.py:33: DataConversionWarning: A column-vector y was passed when a 1d array was expected. Please change the shape of y to (n_samples,), for example using ravel().\n",
      "  xtc_model = xtc.fit(X_smote, y_smote)\n"
     ]
    },
    {
     "name": "stdout",
     "output_type": "stream",
     "text": [
      "| \u001b[0m3        \u001b[0m | \u001b[0m0.7992   \u001b[0m | \u001b[0m0.2045   \u001b[0m | \u001b[0m176.8    \u001b[0m | \u001b[0m0.2164   \u001b[0m | \u001b[0m10.72    \u001b[0m | \u001b[0m7.425    \u001b[0m | \u001b[0m94.84    \u001b[0m |\n"
     ]
    },
    {
     "name": "stderr",
     "output_type": "stream",
     "text": [
      "/var/folders/nj/qv4q4t0d0yz8924lwlb0b73c0000gn/T/ipykernel_8569/2021403616.py:33: DataConversionWarning: A column-vector y was passed when a 1d array was expected. Please change the shape of y to (n_samples,), for example using ravel().\n",
      "  xtc_model = xtc.fit(X_smote, y_smote)\n"
     ]
    },
    {
     "name": "stdout",
     "output_type": "stream",
     "text": [
      "| \u001b[0m4        \u001b[0m | \u001b[0m0.7797   \u001b[0m | \u001b[0m0.1404   \u001b[0m | \u001b[0m47.64    \u001b[0m | \u001b[0m0.6804   \u001b[0m | \u001b[0m14.59    \u001b[0m | \u001b[0m6.075    \u001b[0m | \u001b[0m111.5    \u001b[0m |\n"
     ]
    },
    {
     "name": "stderr",
     "output_type": "stream",
     "text": [
      "/var/folders/nj/qv4q4t0d0yz8924lwlb0b73c0000gn/T/ipykernel_8569/2021403616.py:33: DataConversionWarning: A column-vector y was passed when a 1d array was expected. Please change the shape of y to (n_samples,), for example using ravel().\n",
      "  xtc_model = xtc.fit(X_smote, y_smote)\n"
     ]
    },
    {
     "name": "stdout",
     "output_type": "stream",
     "text": [
      "| \u001b[95m5        \u001b[0m | \u001b[95m0.8204   \u001b[0m | \u001b[95m0.8764   \u001b[0m | \u001b[95m180.0    \u001b[0m | \u001b[95m0.251    \u001b[0m | \u001b[95m2.508    \u001b[0m | \u001b[95m4.208    \u001b[0m | \u001b[95m134.8    \u001b[0m |\n"
     ]
    },
    {
     "name": "stderr",
     "output_type": "stream",
     "text": [
      "/var/folders/nj/qv4q4t0d0yz8924lwlb0b73c0000gn/T/ipykernel_8569/2021403616.py:33: DataConversionWarning: A column-vector y was passed when a 1d array was expected. Please change the shape of y to (n_samples,), for example using ravel().\n",
      "  xtc_model = xtc.fit(X_smote, y_smote)\n"
     ]
    },
    {
     "name": "stdout",
     "output_type": "stream",
     "text": [
      "| \u001b[0m6        \u001b[0m | \u001b[0m0.7797   \u001b[0m | \u001b[0m0.09835  \u001b[0m | \u001b[0m90.01    \u001b[0m | \u001b[0m0.7747   \u001b[0m | \u001b[0m8.931    \u001b[0m | \u001b[0m10.99    \u001b[0m | \u001b[0m64.44    \u001b[0m |\n"
     ]
    },
    {
     "name": "stderr",
     "output_type": "stream",
     "text": [
      "/var/folders/nj/qv4q4t0d0yz8924lwlb0b73c0000gn/T/ipykernel_8569/2021403616.py:33: DataConversionWarning: A column-vector y was passed when a 1d array was expected. Please change the shape of y to (n_samples,), for example using ravel().\n",
      "  xtc_model = xtc.fit(X_smote, y_smote)\n"
     ]
    },
    {
     "name": "stdout",
     "output_type": "stream",
     "text": [
      "| \u001b[0m7        \u001b[0m | \u001b[0m0.8157   \u001b[0m | \u001b[0m0.3821   \u001b[0m | \u001b[0m178.8    \u001b[0m | \u001b[0m0.6073   \u001b[0m | \u001b[0m2.65     \u001b[0m | \u001b[0m5.49     \u001b[0m | \u001b[0m136.2    \u001b[0m |\n"
     ]
    },
    {
     "name": "stderr",
     "output_type": "stream",
     "text": [
      "/var/folders/nj/qv4q4t0d0yz8924lwlb0b73c0000gn/T/ipykernel_8569/2021403616.py:33: DataConversionWarning: A column-vector y was passed when a 1d array was expected. Please change the shape of y to (n_samples,), for example using ravel().\n",
      "  xtc_model = xtc.fit(X_smote, y_smote)\n"
     ]
    },
    {
     "name": "stdout",
     "output_type": "stream",
     "text": [
      "| \u001b[0m8        \u001b[0m | \u001b[0m0.8129   \u001b[0m | \u001b[0m1.0      \u001b[0m | \u001b[0m189.2    \u001b[0m | \u001b[0m0.2      \u001b[0m | \u001b[0m3.208    \u001b[0m | \u001b[0m2.0      \u001b[0m | \u001b[0m127.3    \u001b[0m |\n"
     ]
    },
    {
     "name": "stderr",
     "output_type": "stream",
     "text": [
      "/var/folders/nj/qv4q4t0d0yz8924lwlb0b73c0000gn/T/ipykernel_8569/2021403616.py:33: DataConversionWarning: A column-vector y was passed when a 1d array was expected. Please change the shape of y to (n_samples,), for example using ravel().\n",
      "  xtc_model = xtc.fit(X_smote, y_smote)\n"
     ]
    },
    {
     "name": "stdout",
     "output_type": "stream",
     "text": [
      "| \u001b[0m9        \u001b[0m | \u001b[0m0.805    \u001b[0m | \u001b[0m0.5282   \u001b[0m | \u001b[0m173.3    \u001b[0m | \u001b[0m0.5894   \u001b[0m | \u001b[0m5.186    \u001b[0m | \u001b[0m3.822    \u001b[0m | \u001b[0m121.6    \u001b[0m |\n"
     ]
    },
    {
     "name": "stderr",
     "output_type": "stream",
     "text": [
      "/var/folders/nj/qv4q4t0d0yz8924lwlb0b73c0000gn/T/ipykernel_8569/2021403616.py:33: DataConversionWarning: A column-vector y was passed when a 1d array was expected. Please change the shape of y to (n_samples,), for example using ravel().\n",
      "  xtc_model = xtc.fit(X_smote, y_smote)\n"
     ]
    },
    {
     "name": "stdout",
     "output_type": "stream",
     "text": [
      "| \u001b[0m10       \u001b[0m | \u001b[0m0.7863   \u001b[0m | \u001b[0m0.5612   \u001b[0m | \u001b[0m187.5    \u001b[0m | \u001b[0m0.5671   \u001b[0m | \u001b[0m10.27    \u001b[0m | \u001b[0m4.209    \u001b[0m | \u001b[0m139.0    \u001b[0m |\n"
     ]
    },
    {
     "name": "stderr",
     "output_type": "stream",
     "text": [
      "/var/folders/nj/qv4q4t0d0yz8924lwlb0b73c0000gn/T/ipykernel_8569/2021403616.py:33: DataConversionWarning: A column-vector y was passed when a 1d array was expected. Please change the shape of y to (n_samples,), for example using ravel().\n",
      "  xtc_model = xtc.fit(X_smote, y_smote)\n"
     ]
    },
    {
     "name": "stdout",
     "output_type": "stream",
     "text": [
      "| \u001b[95m11       \u001b[0m | \u001b[95m0.8249   \u001b[0m | \u001b[95m1.0      \u001b[0m | \u001b[95m181.3    \u001b[0m | \u001b[95m0.2      \u001b[0m | \u001b[95m2.0      \u001b[0m | \u001b[95m7.432    \u001b[0m | \u001b[95m128.5    \u001b[0m |\n"
     ]
    },
    {
     "name": "stderr",
     "output_type": "stream",
     "text": [
      "/var/folders/nj/qv4q4t0d0yz8924lwlb0b73c0000gn/T/ipykernel_8569/2021403616.py:33: DataConversionWarning: A column-vector y was passed when a 1d array was expected. Please change the shape of y to (n_samples,), for example using ravel().\n",
      "  xtc_model = xtc.fit(X_smote, y_smote)\n"
     ]
    },
    {
     "name": "stdout",
     "output_type": "stream",
     "text": [
      "| \u001b[0m12       \u001b[0m | \u001b[0m0.8079   \u001b[0m | \u001b[0m1.0      \u001b[0m | \u001b[0m186.6    \u001b[0m | \u001b[0m0.2      \u001b[0m | \u001b[0m2.0      \u001b[0m | \u001b[0m15.0     \u001b[0m | \u001b[0m122.5    \u001b[0m |\n"
     ]
    },
    {
     "name": "stderr",
     "output_type": "stream",
     "text": [
      "/var/folders/nj/qv4q4t0d0yz8924lwlb0b73c0000gn/T/ipykernel_8569/2021403616.py:33: DataConversionWarning: A column-vector y was passed when a 1d array was expected. Please change the shape of y to (n_samples,), for example using ravel().\n",
      "  xtc_model = xtc.fit(X_smote, y_smote)\n"
     ]
    },
    {
     "name": "stdout",
     "output_type": "stream",
     "text": [
      "| \u001b[0m13       \u001b[0m | \u001b[0m0.8087   \u001b[0m | \u001b[0m0.05911  \u001b[0m | \u001b[0m152.9    \u001b[0m | \u001b[0m0.6605   \u001b[0m | \u001b[0m2.489    \u001b[0m | \u001b[0m10.6     \u001b[0m | \u001b[0m28.48    \u001b[0m |\n"
     ]
    },
    {
     "name": "stderr",
     "output_type": "stream",
     "text": [
      "/var/folders/nj/qv4q4t0d0yz8924lwlb0b73c0000gn/T/ipykernel_8569/2021403616.py:33: DataConversionWarning: A column-vector y was passed when a 1d array was expected. Please change the shape of y to (n_samples,), for example using ravel().\n",
      "  xtc_model = xtc.fit(X_smote, y_smote)\n"
     ]
    },
    {
     "name": "stdout",
     "output_type": "stream",
     "text": [
      "| \u001b[0m14       \u001b[0m | \u001b[0m0.7967   \u001b[0m | \u001b[0m0.1454   \u001b[0m | \u001b[0m154.1    \u001b[0m | \u001b[0m0.5867   \u001b[0m | \u001b[0m8.485    \u001b[0m | \u001b[0m7.198    \u001b[0m | \u001b[0m45.87    \u001b[0m |\n"
     ]
    },
    {
     "name": "stderr",
     "output_type": "stream",
     "text": [
      "/var/folders/nj/qv4q4t0d0yz8924lwlb0b73c0000gn/T/ipykernel_8569/2021403616.py:33: DataConversionWarning: A column-vector y was passed when a 1d array was expected. Please change the shape of y to (n_samples,), for example using ravel().\n",
      "  xtc_model = xtc.fit(X_smote, y_smote)\n"
     ]
    },
    {
     "name": "stdout",
     "output_type": "stream",
     "text": [
      "| \u001b[0m15       \u001b[0m | \u001b[0m0.8223   \u001b[0m | \u001b[0m1.0      \u001b[0m | \u001b[0m178.9    \u001b[0m | \u001b[0m0.2      \u001b[0m | \u001b[0m2.0      \u001b[0m | \u001b[0m2.0      \u001b[0m | \u001b[0m128.5    \u001b[0m |\n"
     ]
    },
    {
     "name": "stderr",
     "output_type": "stream",
     "text": [
      "/var/folders/nj/qv4q4t0d0yz8924lwlb0b73c0000gn/T/ipykernel_8569/2021403616.py:33: DataConversionWarning: A column-vector y was passed when a 1d array was expected. Please change the shape of y to (n_samples,), for example using ravel().\n",
      "  xtc_model = xtc.fit(X_smote, y_smote)\n"
     ]
    },
    {
     "name": "stdout",
     "output_type": "stream",
     "text": [
      "| \u001b[0m16       \u001b[0m | \u001b[0m0.8104   \u001b[0m | \u001b[0m0.8328   \u001b[0m | \u001b[0m136.4    \u001b[0m | \u001b[0m0.2      \u001b[0m | \u001b[0m3.102    \u001b[0m | \u001b[0m2.0      \u001b[0m | \u001b[0m29.92    \u001b[0m |\n"
     ]
    },
    {
     "name": "stderr",
     "output_type": "stream",
     "text": [
      "/var/folders/nj/qv4q4t0d0yz8924lwlb0b73c0000gn/T/ipykernel_8569/2021403616.py:33: DataConversionWarning: A column-vector y was passed when a 1d array was expected. Please change the shape of y to (n_samples,), for example using ravel().\n",
      "  xtc_model = xtc.fit(X_smote, y_smote)\n"
     ]
    },
    {
     "name": "stdout",
     "output_type": "stream",
     "text": [
      "| \u001b[0m17       \u001b[0m | \u001b[0m0.7804   \u001b[0m | \u001b[0m0.3202   \u001b[0m | \u001b[0m142.0    \u001b[0m | \u001b[0m0.2868   \u001b[0m | \u001b[0m14.97    \u001b[0m | \u001b[0m10.07    \u001b[0m | \u001b[0m29.78    \u001b[0m |\n"
     ]
    },
    {
     "name": "stderr",
     "output_type": "stream",
     "text": [
      "/var/folders/nj/qv4q4t0d0yz8924lwlb0b73c0000gn/T/ipykernel_8569/2021403616.py:33: DataConversionWarning: A column-vector y was passed when a 1d array was expected. Please change the shape of y to (n_samples,), for example using ravel().\n",
      "  xtc_model = xtc.fit(X_smote, y_smote)\n"
     ]
    },
    {
     "name": "stdout",
     "output_type": "stream",
     "text": [
      "| \u001b[0m18       \u001b[0m | \u001b[0m0.8198   \u001b[0m | \u001b[0m0.3479   \u001b[0m | \u001b[0m138.9    \u001b[0m | \u001b[0m0.2      \u001b[0m | \u001b[0m2.0      \u001b[0m | \u001b[0m2.0      \u001b[0m | \u001b[0m43.0     \u001b[0m |\n"
     ]
    },
    {
     "name": "stderr",
     "output_type": "stream",
     "text": [
      "/var/folders/nj/qv4q4t0d0yz8924lwlb0b73c0000gn/T/ipykernel_8569/2021403616.py:33: DataConversionWarning: A column-vector y was passed when a 1d array was expected. Please change the shape of y to (n_samples,), for example using ravel().\n",
      "  xtc_model = xtc.fit(X_smote, y_smote)\n"
     ]
    },
    {
     "name": "stdout",
     "output_type": "stream",
     "text": [
      "| \u001b[0m19       \u001b[0m | \u001b[0m0.8106   \u001b[0m | \u001b[0m1.0      \u001b[0m | \u001b[0m126.3    \u001b[0m | \u001b[0m0.2      \u001b[0m | \u001b[0m2.0      \u001b[0m | \u001b[0m2.0      \u001b[0m | \u001b[0m45.78    \u001b[0m |\n"
     ]
    },
    {
     "name": "stderr",
     "output_type": "stream",
     "text": [
      "/var/folders/nj/qv4q4t0d0yz8924lwlb0b73c0000gn/T/ipykernel_8569/2021403616.py:33: DataConversionWarning: A column-vector y was passed when a 1d array was expected. Please change the shape of y to (n_samples,), for example using ravel().\n",
      "  xtc_model = xtc.fit(X_smote, y_smote)\n"
     ]
    },
    {
     "name": "stdout",
     "output_type": "stream",
     "text": [
      "| \u001b[0m20       \u001b[0m | \u001b[0m0.8053   \u001b[0m | \u001b[0m0.273    \u001b[0m | \u001b[0m134.9    \u001b[0m | \u001b[0m0.5802   \u001b[0m | \u001b[0m7.867    \u001b[0m | \u001b[0m2.699    \u001b[0m | \u001b[0m57.61    \u001b[0m |\n"
     ]
    },
    {
     "name": "stderr",
     "output_type": "stream",
     "text": [
      "/var/folders/nj/qv4q4t0d0yz8924lwlb0b73c0000gn/T/ipykernel_8569/2021403616.py:33: DataConversionWarning: A column-vector y was passed when a 1d array was expected. Please change the shape of y to (n_samples,), for example using ravel().\n",
      "  xtc_model = xtc.fit(X_smote, y_smote)\n"
     ]
    },
    {
     "name": "stdout",
     "output_type": "stream",
     "text": [
      "| \u001b[0m21       \u001b[0m | \u001b[0m0.809    \u001b[0m | \u001b[0m1.0      \u001b[0m | \u001b[0m136.7    \u001b[0m | \u001b[0m0.2      \u001b[0m | \u001b[0m2.0      \u001b[0m | \u001b[0m13.09    \u001b[0m | \u001b[0m43.57    \u001b[0m |\n"
     ]
    },
    {
     "name": "stderr",
     "output_type": "stream",
     "text": [
      "/var/folders/nj/qv4q4t0d0yz8924lwlb0b73c0000gn/T/ipykernel_8569/2021403616.py:33: DataConversionWarning: A column-vector y was passed when a 1d array was expected. Please change the shape of y to (n_samples,), for example using ravel().\n",
      "  xtc_model = xtc.fit(X_smote, y_smote)\n"
     ]
    },
    {
     "name": "stdout",
     "output_type": "stream",
     "text": [
      "| \u001b[0m22       \u001b[0m | \u001b[0m0.8014   \u001b[0m | \u001b[0m0.0      \u001b[0m | \u001b[0m113.7    \u001b[0m | \u001b[0m0.8      \u001b[0m | \u001b[0m2.0      \u001b[0m | \u001b[0m2.0      \u001b[0m | \u001b[0m29.65    \u001b[0m |\n"
     ]
    },
    {
     "name": "stderr",
     "output_type": "stream",
     "text": [
      "/var/folders/nj/qv4q4t0d0yz8924lwlb0b73c0000gn/T/ipykernel_8569/2021403616.py:33: DataConversionWarning: A column-vector y was passed when a 1d array was expected. Please change the shape of y to (n_samples,), for example using ravel().\n",
      "  xtc_model = xtc.fit(X_smote, y_smote)\n"
     ]
    },
    {
     "name": "stdout",
     "output_type": "stream",
     "text": [
      "| \u001b[0m23       \u001b[0m | \u001b[0m0.8138   \u001b[0m | \u001b[0m0.6781   \u001b[0m | \u001b[0m169.8    \u001b[0m | \u001b[0m0.2635   \u001b[0m | \u001b[0m2.499    \u001b[0m | \u001b[0m12.22    \u001b[0m | \u001b[0m129.9    \u001b[0m |\n"
     ]
    },
    {
     "name": "stderr",
     "output_type": "stream",
     "text": [
      "/var/folders/nj/qv4q4t0d0yz8924lwlb0b73c0000gn/T/ipykernel_8569/2021403616.py:33: DataConversionWarning: A column-vector y was passed when a 1d array was expected. Please change the shape of y to (n_samples,), for example using ravel().\n",
      "  xtc_model = xtc.fit(X_smote, y_smote)\n"
     ]
    },
    {
     "name": "stdout",
     "output_type": "stream",
     "text": [
      "| \u001b[0m24       \u001b[0m | \u001b[0m0.8161   \u001b[0m | \u001b[0m1.0      \u001b[0m | \u001b[0m154.6    \u001b[0m | \u001b[0m0.2      \u001b[0m | \u001b[0m2.0      \u001b[0m | \u001b[0m8.659    \u001b[0m | \u001b[0m137.7    \u001b[0m |\n"
     ]
    },
    {
     "name": "stderr",
     "output_type": "stream",
     "text": [
      "/var/folders/nj/qv4q4t0d0yz8924lwlb0b73c0000gn/T/ipykernel_8569/2021403616.py:33: DataConversionWarning: A column-vector y was passed when a 1d array was expected. Please change the shape of y to (n_samples,), for example using ravel().\n",
      "  xtc_model = xtc.fit(X_smote, y_smote)\n"
     ]
    },
    {
     "name": "stdout",
     "output_type": "stream",
     "text": [
      "| \u001b[0m25       \u001b[0m | \u001b[0m0.8131   \u001b[0m | \u001b[0m0.4259   \u001b[0m | \u001b[0m147.1    \u001b[0m | \u001b[0m0.4828   \u001b[0m | \u001b[0m5.118    \u001b[0m | \u001b[0m12.94    \u001b[0m | \u001b[0m128.1    \u001b[0m |\n"
     ]
    },
    {
     "name": "stderr",
     "output_type": "stream",
     "text": [
      "/var/folders/nj/qv4q4t0d0yz8924lwlb0b73c0000gn/T/ipykernel_8569/2021403616.py:33: DataConversionWarning: A column-vector y was passed when a 1d array was expected. Please change the shape of y to (n_samples,), for example using ravel().\n",
      "  xtc_model = xtc.fit(X_smote, y_smote)\n"
     ]
    },
    {
     "name": "stdout",
     "output_type": "stream",
     "text": [
      "| \u001b[0m26       \u001b[0m | \u001b[0m0.7714   \u001b[0m | \u001b[0m0.6478   \u001b[0m | \u001b[0m155.3    \u001b[0m | \u001b[0m0.7365   \u001b[0m | \u001b[0m14.56    \u001b[0m | \u001b[0m12.39    \u001b[0m | \u001b[0m139.5    \u001b[0m |\n"
     ]
    },
    {
     "name": "stderr",
     "output_type": "stream",
     "text": [
      "/var/folders/nj/qv4q4t0d0yz8924lwlb0b73c0000gn/T/ipykernel_8569/2021403616.py:33: DataConversionWarning: A column-vector y was passed when a 1d array was expected. Please change the shape of y to (n_samples,), for example using ravel().\n",
      "  xtc_model = xtc.fit(X_smote, y_smote)\n"
     ]
    },
    {
     "name": "stdout",
     "output_type": "stream",
     "text": [
      "| \u001b[0m27       \u001b[0m | \u001b[0m0.8229   \u001b[0m | \u001b[0m0.08065  \u001b[0m | \u001b[0m156.5    \u001b[0m | \u001b[0m0.4312   \u001b[0m | \u001b[0m3.494    \u001b[0m | \u001b[0m4.595    \u001b[0m | \u001b[0m128.0    \u001b[0m |\n"
     ]
    },
    {
     "name": "stderr",
     "output_type": "stream",
     "text": [
      "/var/folders/nj/qv4q4t0d0yz8924lwlb0b73c0000gn/T/ipykernel_8569/2021403616.py:33: DataConversionWarning: A column-vector y was passed when a 1d array was expected. Please change the shape of y to (n_samples,), for example using ravel().\n",
      "  xtc_model = xtc.fit(X_smote, y_smote)\n"
     ]
    },
    {
     "name": "stdout",
     "output_type": "stream",
     "text": [
      "| \u001b[0m28       \u001b[0m | \u001b[0m0.822    \u001b[0m | \u001b[0m1.0      \u001b[0m | \u001b[0m147.7    \u001b[0m | \u001b[0m0.2      \u001b[0m | \u001b[0m2.0      \u001b[0m | \u001b[0m2.0      \u001b[0m | \u001b[0m130.4    \u001b[0m |\n"
     ]
    },
    {
     "name": "stderr",
     "output_type": "stream",
     "text": [
      "/var/folders/nj/qv4q4t0d0yz8924lwlb0b73c0000gn/T/ipykernel_8569/2021403616.py:33: DataConversionWarning: A column-vector y was passed when a 1d array was expected. Please change the shape of y to (n_samples,), for example using ravel().\n",
      "  xtc_model = xtc.fit(X_smote, y_smote)\n"
     ]
    },
    {
     "name": "stdout",
     "output_type": "stream",
     "text": [
      "| \u001b[0m29       \u001b[0m | \u001b[0m0.8231   \u001b[0m | \u001b[0m1.0      \u001b[0m | \u001b[0m149.8    \u001b[0m | \u001b[0m0.2      \u001b[0m | \u001b[0m2.0      \u001b[0m | \u001b[0m2.0      \u001b[0m | \u001b[0m118.4    \u001b[0m |\n"
     ]
    },
    {
     "name": "stderr",
     "output_type": "stream",
     "text": [
      "/var/folders/nj/qv4q4t0d0yz8924lwlb0b73c0000gn/T/ipykernel_8569/2021403616.py:33: DataConversionWarning: A column-vector y was passed when a 1d array was expected. Please change the shape of y to (n_samples,), for example using ravel().\n",
      "  xtc_model = xtc.fit(X_smote, y_smote)\n"
     ]
    },
    {
     "name": "stdout",
     "output_type": "stream",
     "text": [
      "| \u001b[0m30       \u001b[0m | \u001b[0m0.8232   \u001b[0m | \u001b[0m0.0      \u001b[0m | \u001b[0m136.4    \u001b[0m | \u001b[0m0.2      \u001b[0m | \u001b[0m2.0      \u001b[0m | \u001b[0m2.0      \u001b[0m | \u001b[0m119.2    \u001b[0m |\n"
     ]
    },
    {
     "name": "stderr",
     "output_type": "stream",
     "text": [
      "/var/folders/nj/qv4q4t0d0yz8924lwlb0b73c0000gn/T/ipykernel_8569/2021403616.py:33: DataConversionWarning: A column-vector y was passed when a 1d array was expected. Please change the shape of y to (n_samples,), for example using ravel().\n",
      "  xtc_model = xtc.fit(X_smote, y_smote)\n"
     ]
    },
    {
     "name": "stdout",
     "output_type": "stream",
     "text": [
      "| \u001b[0m31       \u001b[0m | \u001b[0m0.8132   \u001b[0m | \u001b[0m0.6343   \u001b[0m | \u001b[0m140.5    \u001b[0m | \u001b[0m0.2864   \u001b[0m | \u001b[0m2.0      \u001b[0m | \u001b[0m10.81    \u001b[0m | \u001b[0m109.6    \u001b[0m |\n",
      "=================================================================================================\n"
     ]
    }
   ],
   "source": [
    "xtcBO.maximize(init_points=6, \n",
    "               n_iter=25,\n",
    "               acq = 'ucb',\n",
    "               xi = 0.0,\n",
    "               alpha = 1e-6)"
   ]
  },
  {
   "cell_type": "code",
   "execution_count": 67,
   "metadata": {},
   "outputs": [
    {
     "data": {
      "text/plain": [
       "{'target': 0.8248587570621468,\n",
       " 'params': {'bootstrap': 1.0,\n",
       "  'max_depth': 181.3405773630045,\n",
       "  'max_features': 0.2,\n",
       "  'min_samples_leaf': 2.0,\n",
       "  'min_samples_split': 7.431592798064626,\n",
       "  'n_estimators': 128.45847901642233}}"
      ]
     },
     "execution_count": 67,
     "metadata": {},
     "output_type": "execute_result"
    }
   ],
   "source": [
    "# Best Hyperparameters selected\n",
    "xtcBO.max"
   ]
  },
  {
   "cell_type": "code",
   "execution_count": 68,
   "metadata": {},
   "outputs": [
    {
     "name": "stderr",
     "output_type": "stream",
     "text": [
      "/var/folders/nj/qv4q4t0d0yz8924lwlb0b73c0000gn/T/ipykernel_8569/1080922815.py:10: DataConversionWarning: A column-vector y was passed when a 1d array was expected. Please change the shape of y to (n_samples,), for example using ravel().\n",
      "  xtc_tuned_model = xtc_tuned.fit(X_smote, y_smote)\n"
     ]
    },
    {
     "name": "stdout",
     "output_type": "stream",
     "text": [
      "=====================train====================\n",
      "accuracy: 0.96902\n",
      "precision: 0.98692\n",
      "recall: 0.95065\n",
      "f1 score: 0.96845\n",
      "pr auc: 0.99835\n",
      "=====================val====================\n",
      "accuracy: 0.91184\n",
      "precision: 0.91195\n",
      "recall: 0.7455\n",
      "f1 score: 0.82037\n",
      "pr auc: 0.84117\n",
      "=====================test====================\n",
      "accuracy: 0.90316\n",
      "precision: 0.86637\n",
      "recall: 0.75835\n",
      "f1 score: 0.80877\n",
      "pr auc: 0.86098\n"
     ]
    }
   ],
   "source": [
    "xtc_tuned = ExtraTreesClassifier(n_estimators = int(xtcBO.max['params']['n_estimators']),\n",
    "                                    max_depth = int(xtcBO.max['params']['max_depth']),\n",
    "                                    min_samples_split = int(xtcBO.max['params']['min_samples_split']),  \n",
    "                                    min_samples_leaf = int(xtcBO.max['params']['min_samples_leaf']),\n",
    "                                    max_features =  xtcBO.max['params']['max_features'],                 \n",
    "                                    bootstrap = xtcBO.max['params']['bootstrap'] > 0.5,\n",
    "                                    oob_score = xtcBO.max['params']['bootstrap'] > 0.5,\n",
    "                                    n_jobs=6)\n",
    "\n",
    "xtc_tuned_model = xtc_tuned.fit(X_smote, y_smote)\n",
    "\n",
    "y_pred_train = xtc_tuned_model.predict(X_smote)\n",
    "y_pred_train_proba = xtc_tuned_model.predict_proba(X_smote)[:, 1]\n",
    "print_statistics(y_smote, y_pred_train, y_pred_train_proba, 'train')\n",
    "\n",
    "y_pred_val = xtc_tuned_model.predict(X_val)\n",
    "y_pred_val_proba = xtc_tuned_model.predict_proba(X_val)[:, 1]\n",
    "print_statistics(y_val, y_pred_val, y_pred_val_proba, 'val')\n",
    "\n",
    "y_pred_test = xtc_tuned_model.predict(X_test)\n",
    "y_pred_test_proba = xtc_tuned_model.predict_proba(X_test)[:, 1]\n",
    "print_statistics(y_test, y_pred_test, y_pred_test_proba, 'test')"
   ]
  },
  {
   "cell_type": "code",
   "execution_count": null,
   "metadata": {},
   "outputs": [],
   "source": []
  },
  {
   "cell_type": "code",
   "execution_count": null,
   "metadata": {},
   "outputs": [],
   "source": []
  },
  {
   "cell_type": "code",
   "execution_count": null,
   "metadata": {},
   "outputs": [],
   "source": []
  }
 ],
 "metadata": {
  "kernelspec": {
   "display_name": "Python 3.9.12 ('base')",
   "language": "python",
   "name": "python3"
  },
  "language_info": {
   "codemirror_mode": {
    "name": "ipython",
    "version": 3
   },
   "file_extension": ".py",
   "mimetype": "text/x-python",
   "name": "python",
   "nbconvert_exporter": "python",
   "pygments_lexer": "ipython3",
   "version": "3.9.12"
  },
  "orig_nbformat": 4,
  "vscode": {
   "interpreter": {
    "hash": "978f330f18f09b96c963e3c91a07e0012914276ff7638db23c1ba2d61898b52b"
   }
  }
 },
 "nbformat": 4,
 "nbformat_minor": 2
}
