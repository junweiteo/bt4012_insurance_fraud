{
 "cells": [
  {
   "cell_type": "code",
   "execution_count": 1,
   "metadata": {},
   "outputs": [],
   "source": [
    "import pandas as pd\n",
    "from scipy import stats"
   ]
  },
  {
   "cell_type": "code",
   "execution_count": 11,
   "metadata": {},
   "outputs": [],
   "source": [
    "df_x = pd.read_csv('data/X_smote.csv')\n",
    "df_y = pd.read_csv('data/y_smote.csv')\n",
    "df = pd.concat([df_x, df_y], axis = 1)"
   ]
  },
  {
   "cell_type": "code",
   "execution_count": 14,
   "metadata": {},
   "outputs": [],
   "source": [
    "new_features = ['MonthOfIncident', 'DayOfIncident', 'UmbrellaLimit_Missing', 'SuspiciousLocation']"
   ]
  },
  {
   "cell_type": "code",
   "execution_count": 15,
   "metadata": {},
   "outputs": [],
   "source": [
    "results = []\n",
    "\n",
    "for attribute in new_features:\n",
    "    _, p_value = stats.ttest_ind(df[df.ReportedFraud == 0][attribute], df[df.ReportedFraud == 1][attribute])\n",
    "    results.append((attribute, p_value))"
   ]
  },
  {
   "cell_type": "code",
   "execution_count": 18,
   "metadata": {},
   "outputs": [
    {
     "data": {
      "text/html": [
       "<div>\n",
       "<style scoped>\n",
       "    .dataframe tbody tr th:only-of-type {\n",
       "        vertical-align: middle;\n",
       "    }\n",
       "\n",
       "    .dataframe tbody tr th {\n",
       "        vertical-align: top;\n",
       "    }\n",
       "\n",
       "    .dataframe thead th {\n",
       "        text-align: right;\n",
       "    }\n",
       "</style>\n",
       "<table border=\"1\" class=\"dataframe\">\n",
       "  <thead>\n",
       "    <tr style=\"text-align: right;\">\n",
       "      <th></th>\n",
       "      <th>Target_feature</th>\n",
       "      <th>Class0</th>\n",
       "      <th>Class1</th>\n",
       "      <th>New_feature</th>\n",
       "      <th>P-value</th>\n",
       "    </tr>\n",
       "  </thead>\n",
       "  <tbody>\n",
       "    <tr>\n",
       "      <th>0</th>\n",
       "      <td>ReportedFraud</td>\n",
       "      <td>0</td>\n",
       "      <td>1</td>\n",
       "      <td>MonthOfIncident</td>\n",
       "      <td>6.583333e-23</td>\n",
       "    </tr>\n",
       "    <tr>\n",
       "      <th>1</th>\n",
       "      <td>ReportedFraud</td>\n",
       "      <td>0</td>\n",
       "      <td>1</td>\n",
       "      <td>DayOfIncident</td>\n",
       "      <td>6.386208e-14</td>\n",
       "    </tr>\n",
       "    <tr>\n",
       "      <th>2</th>\n",
       "      <td>ReportedFraud</td>\n",
       "      <td>0</td>\n",
       "      <td>1</td>\n",
       "      <td>UmbrellaLimit_Missing</td>\n",
       "      <td>1.471824e-23</td>\n",
       "    </tr>\n",
       "    <tr>\n",
       "      <th>3</th>\n",
       "      <td>ReportedFraud</td>\n",
       "      <td>0</td>\n",
       "      <td>1</td>\n",
       "      <td>SuspiciousLocation</td>\n",
       "      <td>0.000000e+00</td>\n",
       "    </tr>\n",
       "  </tbody>\n",
       "</table>\n",
       "</div>"
      ],
      "text/plain": [
       "  Target_feature  Class0  Class1            New_feature       P-value\n",
       "0  ReportedFraud       0       1        MonthOfIncident  6.583333e-23\n",
       "1  ReportedFraud       0       1          DayOfIncident  6.386208e-14\n",
       "2  ReportedFraud       0       1  UmbrellaLimit_Missing  1.471824e-23\n",
       "3  ReportedFraud       0       1     SuspiciousLocation  0.000000e+00"
      ]
     },
     "execution_count": 18,
     "metadata": {},
     "output_type": "execute_result"
    }
   ],
   "source": [
    "student_t = pd.DataFrame(results, columns=['New_feature', 'P-value'])\n",
    "student_t['Target_feature'] = 'ReportedFraud'\n",
    "student_t['Class0'] = 0\n",
    "student_t['Class1'] = 1\n",
    "student_t = student_t[['Target_feature', 'Class0', 'Class1', 'New_feature', 'P-value']]\n",
    "student_t"
   ]
  }
 ],
 "metadata": {
  "kernelspec": {
   "display_name": "Python 3.9.7 64-bit",
   "language": "python",
   "name": "python3"
  },
  "language_info": {
   "codemirror_mode": {
    "name": "ipython",
    "version": 3
   },
   "file_extension": ".py",
   "mimetype": "text/x-python",
   "name": "python",
   "nbconvert_exporter": "python",
   "pygments_lexer": "ipython3",
   "version": "3.9.7"
  },
  "orig_nbformat": 4,
  "vscode": {
   "interpreter": {
    "hash": "397704579725e15f5c7cb49fe5f0341eb7531c82d19f2c29d197e8b64ab5776b"
   }
  }
 },
 "nbformat": 4,
 "nbformat_minor": 2
}
