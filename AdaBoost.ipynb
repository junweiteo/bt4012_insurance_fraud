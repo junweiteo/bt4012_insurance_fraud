{
  "cells": [
    {
      "cell_type": "markdown",
      "metadata": {
        "id": "8OGDCSSbCwRx"
      },
      "source": [
        "# Importing Libraries and Dataset"
      ]
    },
    {
      "cell_type": "code",
      "execution_count": 1,
      "metadata": {
        "id": "tBN6nk6mMq2v"
      },
      "outputs": [],
      "source": [
        "#Import Libraries\n",
        "import pandas as pd\n",
        "import numpy as np\n",
        "\n",
        "from sklearn import metrics as skmetrics\n",
        "from sklearn.ensemble import AdaBoostClassifier\n"
      ]
    },
    {
      "cell_type": "code",
      "execution_count": 3,
      "metadata": {
        "id": "L4Uy4qkFs1y7"
      },
      "outputs": [],
      "source": [
        "pd.options.display.max_rows = 100\n",
        "pd.options.display.max_columns = 100"
      ]
    },
    {
      "cell_type": "code",
      "source": [
        "X_smote = pd.read_csv('data/X_smote.csv')\n",
        "y_smote = pd.read_csv('data/y_smote.csv')\n",
        "X_val = pd.read_csv('data/X_val.csv')\n",
        "y_val = pd.read_csv('data/y_val.csv')\n",
        "X_test = pd.read_csv('data/X_test.csv')\n",
        "y_test = pd.read_csv('data/y_test.csv')"
      ],
      "metadata": {
        "id": "-rKW2Lm7h9k9"
      },
      "execution_count": 9,
      "outputs": []
    },
    {
      "cell_type": "markdown",
      "metadata": {
        "id": "HYSwFvmJpB_A"
      },
      "source": [
        "# Evaluation Metrics Function"
      ]
    },
    {
      "cell_type": "code",
      "execution_count": 10,
      "metadata": {
        "id": "hrxl7znHpEGH"
      },
      "outputs": [],
      "source": [
        "def print_statistics(y_actual, y_pred, y_prob, dataset_type):\n",
        "  print(f\"====================={dataset_type}====================\")\n",
        "  print(f\"accuracy: {round(skmetrics.accuracy_score(y_actual, y_pred),5)}\")\n",
        "  print(f\"precision: {round(skmetrics.precision_score(y_actual, y_pred),5)}\")\n",
        "  print(f\"recall: {round(skmetrics.recall_score(y_actual, y_pred),5)}\")\n",
        "  print(f\"f1 score: {round(skmetrics.f1_score(y_actual, y_pred),5)}\")\n",
        "  prec, recall, thresholds = skmetrics.precision_recall_curve(y_actual, y_prob)\n",
        "  print(f\"pr auc score: {round(skmetrics.auc(recall, prec),5)}\")"
      ]
    },
    {
      "cell_type": "markdown",
      "source": [
        "# Adaboost Classifier"
      ],
      "metadata": {
        "id": "EqaAwdpcmVvr"
      }
    },
    {
      "cell_type": "code",
      "source": [
        "ada = AdaBoostClassifier().fit(X_smote, y_smote)\n",
        "train_pred_ada = ada.predict(X_smote)\n",
        "train_pred_prob_ada = ada.predict_proba(X_smote)[:,1]\n",
        "val_pred_ada = ada.predict(X_val)\n",
        "val_pred_prob_ada = ada.predict_proba(X_val)[:,1]\n",
        "test_pred_ada = ada.predict(X_test)\n",
        "test_pred_prob_ada = ada.predict_proba(X_test)[:,1]"
      ],
      "metadata": {
        "id": "26KfC8nEapNQ",
        "colab": {
          "base_uri": "https://localhost:8080/"
        },
        "outputId": "b10a08a6-67cd-4938-e2f7-0e78f059b67c"
      },
      "execution_count": 11,
      "outputs": [
        {
          "output_type": "stream",
          "name": "stderr",
          "text": [
            "/usr/local/lib/python3.7/dist-packages/sklearn/utils/validation.py:993: DataConversionWarning: A column-vector y was passed when a 1d array was expected. Please change the shape of y to (n_samples, ), for example using ravel().\n",
            "  y = column_or_1d(y, warn=True)\n"
          ]
        }
      ]
    },
    {
      "cell_type": "code",
      "source": [
        "print_statistics(y_smote, train_pred_ada, train_pred_prob_ada, 'train')\n",
        "print_statistics(y_val, val_pred_ada, val_pred_prob_ada, 'val')\n",
        "print_statistics(y_test, test_pred_ada, test_pred_prob_ada, 'test')"
      ],
      "metadata": {
        "colab": {
          "base_uri": "https://localhost:8080/"
        },
        "id": "bgZB6IH4axFp",
        "outputId": "ab748b98-6c22-411a-c0f4-75f13fce1e4b"
      },
      "execution_count": 12,
      "outputs": [
        {
          "output_type": "stream",
          "name": "stdout",
          "text": [
            "=====================train====================\n",
            "accuracy: 0.87075\n",
            "precision: 0.88094\n",
            "recall: 0.85737\n",
            "f1 score: 0.869\n",
            "pr auc score: 0.94373\n",
            "=====================val====================\n",
            "accuracy: 0.82645\n",
            "precision: 0.68583\n",
            "recall: 0.65938\n",
            "f1 score: 0.67235\n",
            "pr auc score: 0.67583\n",
            "=====================test====================\n",
            "accuracy: 0.83409\n",
            "precision: 0.69789\n",
            "recall: 0.67995\n",
            "f1 score: 0.6888\n",
            "pr auc score: 0.70211\n"
          ]
        }
      ]
    }
  ],
  "metadata": {
    "colab": {
      "collapsed_sections": [
        "3Km8iJxZJusT",
        "EfCCe_LlHQ26",
        "jOJOjYDPEAEQ",
        "jJO894KOQ9rF",
        "2a_4yQ6yQ7Z7",
        "J4PXaOgdQ3KT",
        "JOKh95FZa0Rj",
        "PKO8oiDZFDMD",
        "BW-6Vtr0hcrC",
        "hqjIvVswsPDp",
        "hoyCCfbwTMyA",
        "DmAlLNv6mw8Z"
      ],
      "provenance": [],
      "toc_visible": true
    },
    "kernelspec": {
      "display_name": "Python 3",
      "name": "python3"
    },
    "language_info": {
      "name": "python"
    },
    "gpuClass": "standard"
  },
  "nbformat": 4,
  "nbformat_minor": 0
}