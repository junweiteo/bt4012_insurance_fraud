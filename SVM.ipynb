{
 "cells": [
  {
   "cell_type": "markdown",
   "metadata": {},
   "source": [
    "# Importing Libraries and Dataset"
   ]
  },
  {
   "cell_type": "code",
   "execution_count": 1,
   "metadata": {},
   "outputs": [],
   "source": [
    "#Import Libraries\n",
    "import pandas as pd\n",
    "import numpy as np\n",
    "from sklearn import metrics as skmetrics\n",
    "from sklearn.svm import SVC\n",
    "from sklearn.preprocessing import StandardScaler\n",
    "from sklearn.model_selection import RandomizedSearchCV\n",
    "from sklearn.model_selection import PredefinedSplit"
   ]
  },
  {
   "cell_type": "code",
   "execution_count": 2,
   "metadata": {},
   "outputs": [],
   "source": [
    "pd.options.display.max_rows = 100\n",
    "pd.options.display.max_columns = 100"
   ]
  },
  {
   "cell_type": "code",
   "execution_count": 3,
   "metadata": {},
   "outputs": [],
   "source": [
    "X_smote = pd.read_csv('data/X_smote.csv')\n",
    "y_smote = pd.read_csv('data/y_smote.csv')\n",
    "X_val = pd.read_csv('data/X_val.csv')\n",
    "y_val = pd.read_csv('data/y_val.csv')\n",
    "X_test = pd.read_csv('data/X_test.csv')\n",
    "y_test = pd.read_csv('data/y_test.csv')"
   ]
  },
  {
   "cell_type": "code",
   "execution_count": 4,
   "metadata": {},
   "outputs": [],
   "source": [
    "stdsc = StandardScaler()\n",
    "\n",
    "X_smote = stdsc.fit_transform(X_smote)\n",
    "X_val = stdsc.transform(X_val)\n",
    "X_test = stdsc.transform(X_test)"
   ]
  },
  {
   "cell_type": "markdown",
   "metadata": {},
   "source": [
    "# Evaluation Metrics Function"
   ]
  },
  {
   "cell_type": "code",
   "execution_count": 5,
   "metadata": {},
   "outputs": [],
   "source": [
    "def print_statistics(y_actual, y_pred, y_prob, dataset_type):\n",
    "  print(f\"====================={dataset_type}====================\")\n",
    "  print(f\"accuracy: {round(skmetrics.accuracy_score(y_actual, y_pred),5)}\")\n",
    "  print(f\"precision (macro): {round(skmetrics.precision_score(y_actual, y_pred, average='macro'),5)}\")\n",
    "  print(f\"recall (macro): {round(skmetrics.recall_score(y_actual, y_pred, average='macro'),5)}\")\n",
    "  print(f\"f1 score (macro): {round(skmetrics.f1_score(y_actual, y_pred, average='macro'),5)}\")\n",
    "  print(f\"f1 score of class 1: {round(skmetrics.f1_score(y_actual, y_pred, pos_label=1),5)}\")\n",
    "  print(f\"f1 score of class 0: {round(skmetrics.f1_score(y_actual, y_pred, pos_label=0),5)}\")\n",
    "  prec, recall, thresholds = skmetrics.precision_recall_curve(y_actual, y_prob)\n",
    "  print(f\"pr auc score of class 1: {round(skmetrics.auc(recall, prec),5)}\")\n",
    "  prec_0, recall_0, thresholds = skmetrics.precision_recall_curve(y_actual, y_prob, pos_label=0)\n",
    "  print(f\"pr auc score of class 0: {round(skmetrics.auc(recall_0, prec_0),5)}\")"
   ]
  },
  {
   "cell_type": "markdown",
   "metadata": {},
   "source": [
    "# SVM Model"
   ]
  },
  {
   "cell_type": "code",
   "execution_count": 8,
   "metadata": {},
   "outputs": [],
   "source": [
    "svc = SVC(kernel = 'rbf')\n",
    "model_train = svc.fit(X_smote,y_smote.values.ravel())"
   ]
  },
  {
   "cell_type": "code",
   "execution_count": 9,
   "metadata": {},
   "outputs": [],
   "source": [
    "# Evaluating Train and Test\n",
    "train_pred_proba = model_train.predict(X_smote)\n",
    "train_pred = np.round(train_pred_proba)\n",
    "val_pred_proba = model_train.predict(X_val)\n",
    "val_pred = np.round(val_pred_proba)\n",
    "test_pred_proba = model_train.predict(X_test)\n",
    "test_pred = np.round(test_pred_proba)"
   ]
  },
  {
   "cell_type": "code",
   "execution_count": 10,
   "metadata": {},
   "outputs": [
    {
     "name": "stdout",
     "output_type": "stream",
     "text": [
      "=====================train====================\n",
      "accuracy: 0.9609\n",
      "precision (macro): 0.96162\n",
      "recall (macro): 0.9609\n",
      "f1 score (macro): 0.96088\n",
      "f1 score of class 1: 0.96011\n",
      "f1 score of class 0: 0.96166\n",
      "pr auc score of class 1: 0.97523\n",
      "pr auc score of class 0: 0.26487\n",
      "=====================val====================\n",
      "accuracy: 0.94868\n",
      "precision (macro): 0.94829\n",
      "recall (macro): 0.91997\n",
      "f1 score (macro): 0.93286\n",
      "f1 score of class 1: 0.90027\n",
      "f1 score of class 0: 0.96545\n",
      "pr auc score of class 1: 0.92176\n",
      "pr auc score of class 0: 0.39356\n",
      "=====================test====================\n",
      "accuracy: 0.94417\n",
      "precision (macro): 0.94633\n",
      "recall (macro): 0.91041\n",
      "f1 score (macro): 0.92634\n",
      "f1 score of class 1: 0.8901\n",
      "f1 score of class 0: 0.96258\n",
      "pr auc score of class 1: 0.91572\n",
      "pr auc score of class 0: 0.39191\n"
     ]
    }
   ],
   "source": [
    "print_statistics(y_smote, train_pred, train_pred_proba, 'train')\n",
    "print_statistics(y_val, val_pred, val_pred_proba, 'val')\n",
    "print_statistics(y_test, test_pred, test_pred_proba, 'test')"
   ]
  },
  {
   "cell_type": "markdown",
   "metadata": {},
   "source": [
    "# Random Search for hyperparameter tuning"
   ]
  },
  {
   "cell_type": "code",
   "execution_count": 11,
   "metadata": {},
   "outputs": [],
   "source": [
    "param_grid = {'C': [0.1,1, 10, 100], 'gamma': [1,0.1,0.01,0.001],'kernel': ['rbf', 'poly', 'sigmoid']}"
   ]
  },
  {
   "cell_type": "code",
   "execution_count": 18,
   "metadata": {},
   "outputs": [],
   "source": [
    "scoring = ['f1_macro']\n",
    "\n",
    "split_index = [-1]*len(X_smote) + [0]*len(X_val)\n",
    "X = np.concatenate((X_smote, X_val), axis=0)\n",
    "y = np.concatenate((y_smote, y_val), axis=0)\n",
    "pds = PredefinedSplit(test_fold = split_index)\n",
    "\n",
    "random_search = RandomizedSearchCV(estimator=SVC(), \n",
    "                           param_distributions=param_grid, \n",
    "                           n_iter=20,\n",
    "                           scoring=scoring, \n",
    "                           refit='f1_macro', \n",
    "                           n_jobs=-1, \n",
    "                           cv=pds, \n",
    "                           verbose=0)\n",
    "\n",
    "random_result = random_search.fit(X, y.ravel())"
   ]
  },
  {
   "cell_type": "code",
   "execution_count": 20,
   "metadata": {},
   "outputs": [
    {
     "name": "stdout",
     "output_type": "stream",
     "text": [
      "The best accuracy score for the training dataset is 0.9487\n",
      "The best hyperparameters are {'kernel': 'sigmoid', 'gamma': 0.001, 'C': 0.1}\n",
      "The accuracy score for the validation dataset is 0.9487\n",
      "The accuracy score for the testing dataset is 0.9456\n"
     ]
    }
   ],
   "source": [
    "# Print the best accuracy score for the training dataset\n",
    "print(f'The best accuracy score for the training dataset is {random_result.best_score_:.4f}')\n",
    "# Print the hyperparameters for the best score\n",
    "print(f'The best hyperparameters are {random_result.best_params_}')\n",
    "# Print the best accuracy score for the validation dataset\n",
    "print(f'The accuracy score for the validation dataset is {random_search.score(X_val, y_val):.4f}')\n",
    "# Print the best accuracy score for the testing dataset\n",
    "print(f'The accuracy score for the testing dataset is {random_search.score(X_test, y_test):.4f}')"
   ]
  },
  {
   "cell_type": "code",
   "execution_count": 24,
   "metadata": {},
   "outputs": [
    {
     "name": "stdout",
     "output_type": "stream",
     "text": [
      "The best accuracy score for the training dataset is 0.8496\n",
      "The best hyperparameters are {'kernel': 'poly', 'gamma': 0.01, 'C': 0.1}\n",
      "The accuracy score for the validation dataset is 0.8882\n",
      "The accuracy score for the testing dataset is 0.8059\n"
     ]
    }
   ],
   "source": [
    "# Print the best accuracy score for the training dataset\n",
    "print(f'The best accuracy score for the training dataset is {random_result.best_score_:.4f}')\n",
    "# Print the hyperparameters for the best score\n",
    "print(f'The best hyperparameters are {random_result.best_params_}')\n",
    "# Print the best accuracy score for the validation dataset\n",
    "print(f'The accuracy score for the validation dataset is {random_search.score(X_val, y_val):.4f}')\n",
    "# Print the best accuracy score for the testing dataset\n",
    "print(f'The accuracy score for the testing dataset is {random_search.score(X_test, y_test):.4f}')"
   ]
  },
  {
   "cell_type": "code",
   "execution_count": 21,
   "metadata": {},
   "outputs": [],
   "source": [
    "# SVC with the best hyperparamters\n",
    "svc = SVC(kernel = 'sigmoid', gamma=0.001, C=1)\n",
    "model = svc.fit(X_smote,y_smote.values.ravel())"
   ]
  },
  {
   "cell_type": "code",
   "execution_count": 22,
   "metadata": {},
   "outputs": [],
   "source": [
    "# Evaluating Train and Test\n",
    "train_pred_proba = model.predict(X_smote)\n",
    "train_pred = np.round(train_pred_proba)\n",
    "val_pred_proba = model.predict(X_val)\n",
    "val_pred = np.round(val_pred_proba)\n",
    "test_pred_proba = model.predict(X_test)\n",
    "test_pred = np.round(test_pred_proba)"
   ]
  },
  {
   "cell_type": "code",
   "execution_count": 23,
   "metadata": {},
   "outputs": [
    {
     "name": "stdout",
     "output_type": "stream",
     "text": [
      "=====================train====================\n",
      "accuracy: 0.95968\n",
      "precision (macro): 0.96046\n",
      "recall (macro): 0.95968\n",
      "f1 score (macro): 0.95966\n",
      "f1 score of class 1: 0.95883\n",
      "f1 score of class 0: 0.9605\n",
      "pr auc score of class 1: 0.97449\n",
      "pr auc score of class 0: 0.26521\n",
      "=====================val====================\n",
      "accuracy: 0.94868\n",
      "precision (macro): 0.94829\n",
      "recall (macro): 0.91997\n",
      "f1 score (macro): 0.93286\n",
      "f1 score of class 1: 0.90027\n",
      "f1 score of class 0: 0.96545\n",
      "pr auc score of class 1: 0.92176\n",
      "pr auc score of class 0: 0.39356\n",
      "=====================test====================\n",
      "accuracy: 0.94556\n",
      "precision (macro): 0.94733\n",
      "recall (macro): 0.91298\n",
      "f1 score (macro): 0.9283\n",
      "f1 score of class 1: 0.89312\n",
      "f1 score of class 0: 0.96348\n",
      "pr auc score of class 1: 0.91774\n",
      "pr auc score of class 0: 0.39176\n"
     ]
    }
   ],
   "source": [
    "print_statistics(y_smote, train_pred, train_pred_proba, 'train')\n",
    "print_statistics(y_val, val_pred, val_pred_proba, 'val')\n",
    "print_statistics(y_test, test_pred, test_pred_proba, 'test')"
   ]
  },
  {
   "cell_type": "code",
   "execution_count": 17,
   "metadata": {},
   "outputs": [
    {
     "name": "stdout",
     "output_type": "stream",
     "text": [
      "=====================train====================\n",
      "accuracy: 0.50048\n",
      "precision (macro): 0.60538\n",
      "recall (macro): 0.50048\n",
      "f1 score (macro): 0.33497\n",
      "f1 score of class 1: 0.66673\n",
      "f1 score of class 0: 0.0032\n",
      "pr auc score of class 1: 0.74996\n",
      "pr auc score of class 0: 0.74948\n",
      "=====================val====================\n",
      "accuracy: 0.27219\n",
      "precision (macro): 0.63534\n",
      "recall (macro): 0.50143\n",
      "f1 score (macro): 0.21586\n",
      "f1 score of class 1: 0.42603\n",
      "f1 score of class 0: 0.00568\n",
      "pr auc score of class 1: 0.63534\n",
      "pr auc score of class 0: 0.86428\n",
      "=====================test====================\n",
      "accuracy: 0.26942\n",
      "precision (macro): 0.30131\n",
      "recall (macro): 0.49791\n",
      "f1 score (macro): 0.21287\n",
      "f1 score of class 1: 0.42384\n",
      "f1 score of class 0: 0.00189\n",
      "pr auc score of class 1: 0.63277\n",
      "pr auc score of class 0: 0.86523\n"
     ]
    }
   ],
   "source": [
    "print_statistics(y_smote, train_pred, train_pred_proba, 'train')\n",
    "print_statistics(y_val, val_pred, val_pred_proba, 'val')\n",
    "print_statistics(y_test, test_pred, test_pred_proba, 'test')"
   ]
  },
  {
   "cell_type": "code",
   "execution_count": 27,
   "metadata": {},
   "outputs": [
    {
     "name": "stdout",
     "output_type": "stream",
     "text": [
      "=====================train====================\n",
      "accuracy: 0.97289\n",
      "precision: 0.98619\n",
      "recall: 0.95922\n",
      "f1 score: 0.97251\n",
      "pr auc score: 0.9829\n",
      "=====================val====================\n",
      "accuracy: 0.94099\n",
      "precision: 0.92577\n",
      "recall: 0.84961\n",
      "f1 score: 0.88606\n",
      "pr auc score: 0.908\n",
      "=====================test====================\n",
      "accuracy: 0.93197\n",
      "precision: 0.93694\n",
      "recall: 0.80206\n",
      "f1 score: 0.86427\n",
      "pr auc score: 0.89622\n"
     ]
    }
   ],
   "source": [
    "print_statistics(y_smote, train_pred, train_pred_proba, 'train')\n",
    "print_statistics(y_val, val_pred, val_pred_proba, 'val')\n",
    "print_statistics(y_test, test_pred, test_pred_proba, 'test')"
   ]
  }
 ],
 "metadata": {
  "kernelspec": {
   "display_name": "Python 3.9.7 64-bit",
   "language": "python",
   "name": "python3"
  },
  "language_info": {
   "codemirror_mode": {
    "name": "ipython",
    "version": 3
   },
   "file_extension": ".py",
   "mimetype": "text/x-python",
   "name": "python",
   "nbconvert_exporter": "python",
   "pygments_lexer": "ipython3",
   "version": "3.9.7"
  },
  "orig_nbformat": 4,
  "vscode": {
   "interpreter": {
    "hash": "397704579725e15f5c7cb49fe5f0341eb7531c82d19f2c29d197e8b64ab5776b"
   }
  }
 },
 "nbformat": 4,
 "nbformat_minor": 2
}
