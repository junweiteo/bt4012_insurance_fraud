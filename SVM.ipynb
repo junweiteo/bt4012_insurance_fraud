{
 "cells": [
  {
   "cell_type": "markdown",
   "metadata": {},
   "source": [
    "# Importing Libraries and Dataset"
   ]
  },
  {
   "cell_type": "code",
   "execution_count": 4,
   "metadata": {},
   "outputs": [],
   "source": [
    "#Import Libraries\n",
    "import pandas as pd\n",
    "import numpy as np\n",
    "from sklearn import metrics as skmetrics\n",
    "from sklearn.svm import SVC\n",
    "from sklearn.preprocessing import StandardScaler"
   ]
  },
  {
   "cell_type": "code",
   "execution_count": 2,
   "metadata": {},
   "outputs": [],
   "source": [
    "pd.options.display.max_rows = 100\n",
    "pd.options.display.max_columns = 100"
   ]
  },
  {
   "cell_type": "code",
   "execution_count": 18,
   "metadata": {},
   "outputs": [],
   "source": [
    "X_smote = pd.read_csv('data/X_smote.csv')\n",
    "y_smote = pd.read_csv('data/y_smote.csv')\n",
    "X_val = pd.read_csv('data/X_val.csv')\n",
    "y_val = pd.read_csv('data/y_val.csv')\n",
    "X_test = pd.read_csv('data/X_test.csv')\n",
    "y_test = pd.read_csv('data/y_test.csv')"
   ]
  },
  {
   "cell_type": "code",
   "execution_count": 19,
   "metadata": {},
   "outputs": [],
   "source": [
    "stdsc = StandardScaler()\n",
    "\n",
    "X_smote = stdsc.fit_transform(X_smote)\n",
    "X_val = stdsc.transform(X_val)\n",
    "X_test = stdsc.transform(X_test)"
   ]
  },
  {
   "cell_type": "markdown",
   "metadata": {},
   "source": [
    "# Evaluation Metrics Function"
   ]
  },
  {
   "cell_type": "code",
   "execution_count": 20,
   "metadata": {},
   "outputs": [],
   "source": [
    "def print_statistics(y_actual, y_pred, y_prob, dataset_type):\n",
    "  print(f\"====================={dataset_type}====================\")\n",
    "  print(f\"accuracy: {round(skmetrics.accuracy_score(y_actual, y_pred),5)}\")\n",
    "  print(f\"precision: {round(skmetrics.precision_score(y_actual, y_pred),5)}\")\n",
    "  print(f\"recall: {round(skmetrics.recall_score(y_actual, y_pred),5)}\")\n",
    "  print(f\"f1 score: {round(skmetrics.f1_score(y_actual, y_pred),5)}\")\n",
    "  prec, recall, thresholds = skmetrics.precision_recall_curve(y_actual, y_prob)\n",
    "  print(f\"pr auc score: {round(skmetrics.auc(recall, prec),5)}\")"
   ]
  },
  {
   "cell_type": "markdown",
   "metadata": {},
   "source": [
    "# SVM Model"
   ]
  },
  {
   "cell_type": "code",
   "execution_count": 21,
   "metadata": {},
   "outputs": [],
   "source": [
    "svc = SVC(kernel = 'rbf')\n",
    "model_train = svc.fit(X_smote,y_smote.values.ravel())"
   ]
  },
  {
   "cell_type": "code",
   "execution_count": 22,
   "metadata": {},
   "outputs": [],
   "source": [
    "# Evaluating Train and Test\n",
    "train_pred_proba = model_train.predict(X_smote)\n",
    "train_pred = np.round(train_pred_proba)\n",
    "val_pred_proba = model_train.predict(X_val)\n",
    "val_pred = np.round(val_pred_proba)\n",
    "test_pred_proba = model_train.predict(X_test)\n",
    "test_pred = np.round(test_pred_proba)"
   ]
  },
  {
   "cell_type": "code",
   "execution_count": 23,
   "metadata": {},
   "outputs": [
    {
     "name": "stdout",
     "output_type": "stream",
     "text": [
      "=====================train====================\n",
      "accuracy: 0.96611\n",
      "precision: 0.98425\n",
      "recall: 0.94738\n",
      "f1 score: 0.96547\n",
      "pr auc score: 0.97897\n",
      "=====================val====================\n",
      "accuracy: 0.93613\n",
      "precision: 0.93169\n",
      "recall: 0.82391\n",
      "f1 score: 0.87449\n",
      "pr auc score: 0.90157\n",
      "=====================test====================\n",
      "accuracy: 0.92746\n",
      "precision: 0.93435\n",
      "recall: 0.78663\n",
      "f1 score: 0.85415\n",
      "pr auc score: 0.8893\n"
     ]
    }
   ],
   "source": [
    "print_statistics(y_smote, train_pred, train_pred_proba, 'train')\n",
    "print_statistics(y_val, val_pred, val_pred_proba, 'val')\n",
    "print_statistics(y_test, test_pred, test_pred_proba, 'test')"
   ]
  }
 ],
 "metadata": {
  "kernelspec": {
   "display_name": "Python 3.9.7 64-bit",
   "language": "python",
   "name": "python3"
  },
  "language_info": {
   "codemirror_mode": {
    "name": "ipython",
    "version": 3
   },
   "file_extension": ".py",
   "mimetype": "text/x-python",
   "name": "python",
   "nbconvert_exporter": "python",
   "pygments_lexer": "ipython3",
   "version": "3.9.7"
  },
  "orig_nbformat": 4,
  "vscode": {
   "interpreter": {
    "hash": "397704579725e15f5c7cb49fe5f0341eb7531c82d19f2c29d197e8b64ab5776b"
   }
  }
 },
 "nbformat": 4,
 "nbformat_minor": 2
}
