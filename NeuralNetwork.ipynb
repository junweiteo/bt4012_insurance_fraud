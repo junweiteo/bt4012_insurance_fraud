{
  "cells": [
    {
      "cell_type": "markdown",
      "metadata": {
        "id": "8OGDCSSbCwRx"
      },
      "source": [
        "# Importing Libraries and Dataset"
      ]
    },
    {
      "cell_type": "code",
      "execution_count": null,
      "metadata": {
        "id": "tBN6nk6mMq2v"
      },
      "outputs": [],
      "source": [
        "#Import Libraries\n",
        "import pandas as pd\n",
        "import numpy as np\n",
        "\n",
        "from sklearn import metrics as skmetrics\n",
        "\n",
        "import keras\n",
        "import tensorflow\n",
        "import tensorflow as tf\n",
        "from keras import metrics\n",
        "from keras.models import Sequential\n",
        "from keras.layers import Dense, Input, Embedding, SimpleRNN, Dropout, LSTM, Bidirectional, Conv1D, GlobalMaxPooling1D\n",
        "from tensorflow.keras.optimizers import Adam, SGD\n",
        "from keras import layers"
      ]
    },
    {
      "cell_type": "code",
      "source": [
        "#Import Data\n",
        "\n",
        "from google.colab import drive\n",
        "drive.mount(\"/content/drive\")"
      ],
      "metadata": {
        "colab": {
          "base_uri": "https://localhost:8080/"
        },
        "id": "3RiNeYz0xxmH",
        "outputId": "4edd5045-9c86-4d4f-8d5f-01a2e765ed3e"
      },
      "execution_count": null,
      "outputs": [
        {
          "output_type": "stream",
          "name": "stdout",
          "text": [
            "Mounted at /content/drive\n"
          ]
        }
      ]
    },
    {
      "cell_type": "code",
      "execution_count": null,
      "metadata": {
        "id": "L4Uy4qkFs1y7"
      },
      "outputs": [],
      "source": [
        "pd.options.display.max_rows = 100\n",
        "pd.options.display.max_columns = 100"
      ]
    },
    {
      "cell_type": "code",
      "source": [
        "X_smote = pd.read_csv('drive/MyDrive/BT4012/india fraud dataset/data/X_smote.csv')\n",
        "y_smote = pd.read_csv('drive/MyDrive/BT4012/india fraud dataset/data/y_smote.csv')\n",
        "X_val = pd.read_csv('drive/MyDrive/BT4012/india fraud dataset/data/X_val.csv')\n",
        "y_val = pd.read_csv('drive/MyDrive/BT4012/india fraud dataset/data/y_val.csv')\n",
        "X_test = pd.read_csv('drive/MyDrive/BT4012/india fraud dataset/data/X_test.csv')\n",
        "y_test = pd.read_csv('drive/MyDrive/BT4012/india fraud dataset/data/y_test.csv')"
      ],
      "metadata": {
        "id": "-rKW2Lm7h9k9"
      },
      "execution_count": null,
      "outputs": []
    },
    {
      "cell_type": "code",
      "source": [
        "# X_smote = pd.read_csv('data/X_smote.csv')\n",
        "# y_smote = pd.read_csv('data/y_smote.csv')\n",
        "# X_val = pd.read_csv('data/X_val.csv')\n",
        "# y_val = pd.read_csv('data/y_val.csv')\n",
        "# X_test = pd.read_csv('data/X_test.csv')\n",
        "# y_test = pd.read_csv('data/y_test.csv')"
      ],
      "metadata": {
        "id": "A3mtCP5_x44d"
      },
      "execution_count": null,
      "outputs": []
    },
    {
      "cell_type": "markdown",
      "metadata": {
        "id": "HYSwFvmJpB_A"
      },
      "source": [
        "# Evaluation Metrics Function"
      ]
    },
    {
      "cell_type": "code",
      "execution_count": null,
      "metadata": {
        "id": "hrxl7znHpEGH"
      },
      "outputs": [],
      "source": [
        "def print_statistics(y_actual, y_pred, y_prob, dataset_type):\n",
        "  print(f\"====================={dataset_type}====================\")\n",
        "  print(f\"accuracy: {round(skmetrics.accuracy_score(y_actual, y_pred),5)}\")\n",
        "  print(f\"precision (macro): {round(skmetrics.precision_score(y_actual, y_pred, average='macro'),5)}\")\n",
        "  print(f\"recall (macro): {round(skmetrics.recall_score(y_actual, y_pred, average='macro'),5)}\")\n",
        "  print(f\"f1 score (macro): {round(skmetrics.f1_score(y_actual, y_pred, average='macro'),5)}\")\n",
        "  print(f\"f1 score of class 1: {round(skmetrics.f1_score(y_actual, y_pred, pos_label=1),5)}\")\n",
        "  print(f\"f1 score of class 0: {round(skmetrics.f1_score(y_actual, y_pred, pos_label=0),5)}\")\n",
        "  prec, recall, thresholds = skmetrics.precision_recall_curve(y_actual, y_prob)\n",
        "  print(f\"pr auc score of class 1: {round(skmetrics.auc(recall, prec),5)}\")\n",
        "  prec_0, recall_0, thresholds = skmetrics.precision_recall_curve(y_actual, y_prob, pos_label=0)\n",
        "  print(f\"pr auc score of class 0: {round(skmetrics.auc(recall_0, prec_0),5)}\")"
      ]
    },
    {
      "cell_type": "markdown",
      "metadata": {
        "id": "MWS3wSEIj4Yd"
      },
      "source": [
        "# Neural Network Models"
      ]
    },
    {
      "cell_type": "markdown",
      "metadata": {
        "id": "wCI-F5ISonCp"
      },
      "source": [
        "## Basic NN"
      ]
    },
    {
      "cell_type": "code",
      "execution_count": null,
      "metadata": {
        "id": "HWgeuS-bkGTK"
      },
      "outputs": [],
      "source": [
        "# MODEL FOR 5 LAYERS\n",
        "def train_base_model(n, dropout, X_train, y_train, X_val, y_val):\n",
        "    model = Sequential()\n",
        "    model.add(Dense(units=n, activation='relu', input_dim=130))\n",
        "    \n",
        "    model.add(Dropout(dropout)) \n",
        "    model.add(Dense(n, activation='relu')) # 1 hidden layer \n",
        "    model.add(Dropout(dropout)) \n",
        "    model.add(Dense(n/2, activation='relu')) # 2 hidden layer \n",
        "    model.add(Dropout(dropout)) \n",
        "    model.add(Dense(n/4, activation='relu')) # 3 hidden layer \n",
        "    model.add(Dropout(dropout)) \n",
        "    model.add(Dense(n/6, activation='relu')) # 4 hidden layer \n",
        "    model.add(Dropout(dropout)) \n",
        "    model.add(Dense(n/8, activation='relu')) # 5 hidden layer \n",
        "    model.add(Dropout(dropout)) \n",
        "    model.add(Dense(n/16, activation='relu')) # 6 hidden layer \n",
        "    model.add(Dropout(dropout)) \n",
        "    model.add(Dense(units=1, activation='sigmoid')) #output layer sigmoid as binary\n",
        "    model.summary()\n",
        "    model.compile(loss='binary_crossentropy', optimizer='adam',metrics=[\"accuracy\", metrics.Precision(),metrics.Recall()])\n",
        "    callback = tf.keras.callbacks.EarlyStopping(monitor='loss', patience=3)\n",
        "    model.fit(X_train, y_train, batch_size=128, epochs=10, callbacks=[callback], validation_data=(X_val, y_val))\n",
        "    return model"
      ]
    },
    {
      "cell_type": "code",
      "execution_count": null,
      "metadata": {
        "colab": {
          "base_uri": "https://localhost:8080/"
        },
        "id": "7s74ieenowpF",
        "outputId": "f9c09f21-ddda-4efa-aa8c-987a9ce5513c"
      },
      "outputs": [
        {
          "output_type": "stream",
          "name": "stdout",
          "text": [
            "Model: \"sequential\"\n",
            "_________________________________________________________________\n",
            " Layer (type)                Output Shape              Param #   \n",
            "=================================================================\n",
            " dense (Dense)               (None, 4080)              534480    \n",
            "                                                                 \n",
            " dropout (Dropout)           (None, 4080)              0         \n",
            "                                                                 \n",
            " dense_1 (Dense)             (None, 4080)              16650480  \n",
            "                                                                 \n",
            " dropout_1 (Dropout)         (None, 4080)              0         \n",
            "                                                                 \n",
            " dense_2 (Dense)             (None, 2040)              8325240   \n",
            "                                                                 \n",
            " dropout_2 (Dropout)         (None, 2040)              0         \n",
            "                                                                 \n",
            " dense_3 (Dense)             (None, 1020)              2081820   \n",
            "                                                                 \n",
            " dropout_3 (Dropout)         (None, 1020)              0         \n",
            "                                                                 \n",
            " dense_4 (Dense)             (None, 680)               694280    \n",
            "                                                                 \n",
            " dropout_4 (Dropout)         (None, 680)               0         \n",
            "                                                                 \n",
            " dense_5 (Dense)             (None, 510)               347310    \n",
            "                                                                 \n",
            " dropout_5 (Dropout)         (None, 510)               0         \n",
            "                                                                 \n",
            " dense_6 (Dense)             (None, 255)               130305    \n",
            "                                                                 \n",
            " dropout_6 (Dropout)         (None, 255)               0         \n",
            "                                                                 \n",
            " dense_7 (Dense)             (None, 1)                 256       \n",
            "                                                                 \n",
            "=================================================================\n",
            "Total params: 28,764,171\n",
            "Trainable params: 28,764,171\n",
            "Non-trainable params: 0\n",
            "_________________________________________________________________\n",
            "Epoch 1/10\n",
            "264/264 [==============================] - 7s 14ms/step - loss: 1986.4253 - accuracy: 0.5123 - precision: 0.5117 - recall: 0.5349 - val_loss: 8.3860 - val_accuracy: 0.4324 - val_precision: 0.2915 - val_recall: 0.7702\n",
            "Epoch 2/10\n",
            "264/264 [==============================] - 3s 13ms/step - loss: 2.2284 - accuracy: 0.5166 - precision: 0.5199 - recall: 0.4321 - val_loss: 0.7162 - val_accuracy: 0.5336 - val_precision: 0.3143 - val_recall: 0.6149\n",
            "Epoch 3/10\n",
            "264/264 [==============================] - 3s 13ms/step - loss: 0.7105 - accuracy: 0.5363 - precision: 0.5315 - recall: 0.6132 - val_loss: 0.6817 - val_accuracy: 0.4906 - val_precision: 0.3139 - val_recall: 0.7471\n",
            "Epoch 4/10\n",
            "264/264 [==============================] - 3s 13ms/step - loss: 0.7343 - accuracy: 0.5394 - precision: 0.5326 - recall: 0.6437 - val_loss: 0.6636 - val_accuracy: 0.5510 - val_precision: 0.3147 - val_recall: 0.5623\n",
            "Epoch 5/10\n",
            "264/264 [==============================] - 3s 13ms/step - loss: 0.6992 - accuracy: 0.5398 - precision: 0.5335 - recall: 0.6339 - val_loss: 0.6831 - val_accuracy: 0.4230 - val_precision: 0.3015 - val_recall: 0.8626\n",
            "Epoch 6/10\n",
            "264/264 [==============================] - 4s 14ms/step - loss: 0.7131 - accuracy: 0.5376 - precision: 0.5295 - recall: 0.6748 - val_loss: 0.7211 - val_accuracy: 0.4015 - val_precision: 0.3015 - val_recall: 0.9230\n",
            "Epoch 7/10\n",
            "264/264 [==============================] - 3s 13ms/step - loss: 0.7161 - accuracy: 0.5424 - precision: 0.5304 - recall: 0.7393 - val_loss: 0.6938 - val_accuracy: 0.3727 - val_precision: 0.2938 - val_recall: 0.9422\n",
            "Epoch 8/10\n",
            "264/264 [==============================] - 3s 13ms/step - loss: 0.7068 - accuracy: 0.5469 - precision: 0.5303 - recall: 0.8213 - val_loss: 0.6930 - val_accuracy: 0.3714 - val_precision: 0.2945 - val_recall: 0.9512\n"
          ]
        }
      ],
      "source": [
        "model_train = train_base_model(n=4080, dropout=0.1, X_train=X_smote, y_train=y_smote, X_val= X_val, y_val=y_val)"
      ]
    },
    {
      "cell_type": "code",
      "execution_count": null,
      "metadata": {
        "id": "tvB3dWGCowuj",
        "colab": {
          "base_uri": "https://localhost:8080/"
        },
        "outputId": "6045015b-5059-4112-b162-3e3b614cf46e"
      },
      "outputs": [
        {
          "output_type": "stream",
          "name": "stdout",
          "text": [
            "1053/1053 [==============================] - 2s 2ms/step\n",
            "91/91 [==============================] - 0s 2ms/step\n",
            "91/91 [==============================] - 0s 2ms/step\n"
          ]
        }
      ],
      "source": [
        "# Evaluating Train and Test\n",
        "train_pred_proba = model_train.predict(X_smote)\n",
        "train_pred = np.round(train_pred_proba)\n",
        "val_pred_proba = model_train.predict(X_val)\n",
        "val_pred = np.round(val_pred_proba)\n",
        "test_pred_proba = model_train.predict(X_test)\n",
        "test_pred = np.round(test_pred_proba)"
      ]
    },
    {
      "cell_type": "code",
      "source": [
        "print_statistics(y_smote, train_pred, train_pred_proba, 'train')\n",
        "print_statistics(y_val, val_pred, val_pred_proba, 'val')\n",
        "print_statistics(y_test, test_pred, test_pred_proba, 'test')"
      ],
      "metadata": {
        "colab": {
          "base_uri": "https://localhost:8080/"
        },
        "id": "9bRtoffJtptr",
        "outputId": "8d6b6ec2-0f37-4496-acfb-d380f4cd7f68"
      },
      "execution_count": null,
      "outputs": [
        {
          "output_type": "stream",
          "name": "stdout",
          "text": [
            "=====================train====================\n",
            "accuracy: 0.55421\n",
            "precision (macro): 0.6449\n",
            "recall (macro): 0.55421\n",
            "f1 score (macro): 0.47153\n",
            "f1 score of class 1: 0.68057\n",
            "f1 score of class 0: 0.26249\n",
            "pr auc score of class 1: 0.28189\n",
            "pr auc score of class 0: 0.69056\n",
            "=====================val====================\n",
            "accuracy: 0.37136\n",
            "precision (macro): 0.59563\n",
            "recall (macro): 0.55399\n",
            "f1 score (macro): 0.35833\n",
            "f1 score of class 1: 0.44977\n",
            "f1 score of class 0: 0.26688\n",
            "pr auc score of class 1: 0.15601\n",
            "pr auc score of class 0: 0.82875\n",
            "=====================test====================\n",
            "accuracy: 0.37795\n",
            "precision (macro): 0.60269\n",
            "recall (macro): 0.55972\n",
            "f1 score (macro): 0.36587\n",
            "f1 score of class 1: 0.45338\n",
            "f1 score of class 0: 0.27836\n",
            "pr auc score of class 1: 0.15679\n",
            "pr auc score of class 0: 0.82597\n"
          ]
        }
      ]
    }
  ],
  "metadata": {
    "colab": {
      "provenance": []
    },
    "kernelspec": {
      "display_name": "Python 3",
      "name": "python3"
    },
    "language_info": {
      "name": "python"
    },
    "gpuClass": "standard",
    "accelerator": "GPU"
  },
  "nbformat": 4,
  "nbformat_minor": 0
}