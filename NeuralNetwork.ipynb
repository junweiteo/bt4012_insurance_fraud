{
  "cells": [
    {
      "cell_type": "markdown",
      "metadata": {
        "id": "8OGDCSSbCwRx"
      },
      "source": [
        "# Importing Libraries and Dataset"
      ]
    },
    {
      "cell_type": "code",
      "execution_count": 2,
      "metadata": {
        "id": "tBN6nk6mMq2v"
      },
      "outputs": [],
      "source": [
        "#Import Libraries\n",
        "import pandas as pd\n",
        "import numpy as np\n",
        "\n",
        "from sklearn import metrics as skmetrics\n",
        "\n",
        "import keras\n",
        "import tensorflow\n",
        "import tensorflow as tf\n",
        "from keras import metrics\n",
        "from keras.models import Sequential\n",
        "from keras.layers import Dense, Input, Embedding, SimpleRNN, Dropout, LSTM, Bidirectional, Conv1D, GlobalMaxPooling1D\n",
        "from tensorflow.keras.optimizers import Adam, SGD\n",
        "from keras import layers"
      ]
    },
    {
      "cell_type": "code",
      "execution_count": 4,
      "metadata": {
        "id": "L4Uy4qkFs1y7"
      },
      "outputs": [],
      "source": [
        "pd.options.display.max_rows = 100\n",
        "pd.options.display.max_columns = 100"
      ]
    },
    {
      "cell_type": "code",
      "source": [
        "X_smote = pd.read_csv('data/X_smote.csv')\n",
        "y_smote = pd.read_csv('data/y_smote.csv')\n",
        "X_val = pd.read_csv('data/X_val.csv')\n",
        "y_val = pd.read_csv('data/y_val.csv')\n",
        "X_test = pd.read_csv('data/X_test.csv')\n",
        "y_test = pd.read_csv('data/y_test.csv')"
      ],
      "metadata": {
        "id": "-rKW2Lm7h9k9"
      },
      "execution_count": 5,
      "outputs": []
    },
    {
      "cell_type": "markdown",
      "metadata": {
        "id": "HYSwFvmJpB_A"
      },
      "source": [
        "# Evaluation Metrics Function"
      ]
    },
    {
      "cell_type": "code",
      "execution_count": 6,
      "metadata": {
        "id": "hrxl7znHpEGH"
      },
      "outputs": [],
      "source": [
        "def print_statistics(y_actual, y_pred, y_prob, dataset_type):\n",
        "  print(f\"====================={dataset_type}====================\")\n",
        "  print(f\"accuracy: {round(skmetrics.accuracy_score(y_actual, y_pred),5)}\")\n",
        "  print(f\"precision: {round(skmetrics.precision_score(y_actual, y_pred),5)}\")\n",
        "  print(f\"recall: {round(skmetrics.recall_score(y_actual, y_pred),5)}\")\n",
        "  print(f\"f1 score: {round(skmetrics.f1_score(y_actual, y_pred),5)}\")\n",
        "  prec, recall, thresholds = skmetrics.precision_recall_curve(y_actual, y_prob)\n",
        "  print(f\"pr auc score: {round(skmetrics.auc(recall, prec),5)}\")"
      ]
    },
    {
      "cell_type": "markdown",
      "metadata": {
        "id": "MWS3wSEIj4Yd"
      },
      "source": [
        "# Neural Network Models"
      ]
    },
    {
      "cell_type": "markdown",
      "metadata": {
        "id": "wCI-F5ISonCp"
      },
      "source": [
        "## Basic NN"
      ]
    },
    {
      "cell_type": "code",
      "execution_count": 15,
      "metadata": {
        "id": "HWgeuS-bkGTK"
      },
      "outputs": [],
      "source": [
        "# MODEL FOR 5 LAYERS\n",
        "def train_base_model(n, dropout, X_train, y_train, X_val, y_val):\n",
        "    model = Sequential()\n",
        "    model.add(Dense(units=n, activation='relu', input_dim=176))\n",
        "    \n",
        "    model.add(Dropout(dropout)) \n",
        "    model.add(Dense(n, activation='relu')) # 1 hidden layer \n",
        "    model.add(Dropout(dropout)) \n",
        "    model.add(Dense(n/2, activation='relu')) # 2 hidden layer \n",
        "    model.add(Dropout(dropout)) \n",
        "    model.add(Dense(n/4, activation='relu')) # 3 hidden layer \n",
        "    model.add(Dropout(dropout)) \n",
        "    # model.add(Dense(n/6, activation='relu')) # 4 hidden layer \n",
        "    # model.add(Dropout(dropout)) \n",
        "    # model.add(Dense(n/8, activation='relu')) # 5 hidden layer \n",
        "    # model.add(Dropout(dropout)) \n",
        "    # model.add(Dense(n/16, activation='relu')) # 6 hidden layer \n",
        "    model.add(Dropout(dropout)) \n",
        "    model.add(Dense(units=1, activation='sigmoid')) #output layer sigmoid as binary\n",
        "    model.summary()\n",
        "    model.compile(loss='binary_crossentropy', optimizer='adam',metrics=[\"accuracy\", metrics.Precision(),metrics.Recall()])\n",
        "    callback = tf.keras.callbacks.EarlyStopping(monitor='loss', patience=3)\n",
        "    model.fit(X_train, y_train, batch_size=128, epochs=10, callbacks=[callback], validation_data=(X_val, y_val))\n",
        "    return model"
      ]
    },
    {
      "cell_type": "code",
      "execution_count": 16,
      "metadata": {
        "colab": {
          "base_uri": "https://localhost:8080/"
        },
        "id": "7s74ieenowpF",
        "outputId": "599e9cc0-8284-48b8-8e4a-cdbdc09589e9"
      },
      "outputs": [
        {
          "output_type": "stream",
          "name": "stdout",
          "text": [
            "Model: \"sequential_1\"\n",
            "_________________________________________________________________\n",
            " Layer (type)                Output Shape              Param #   \n",
            "=================================================================\n",
            " dense_8 (Dense)             (None, 4080)              722160    \n",
            "                                                                 \n",
            " dropout_7 (Dropout)         (None, 4080)              0         \n",
            "                                                                 \n",
            " dense_9 (Dense)             (None, 4080)              16650480  \n",
            "                                                                 \n",
            " dropout_8 (Dropout)         (None, 4080)              0         \n",
            "                                                                 \n",
            " dense_10 (Dense)            (None, 2040)              8325240   \n",
            "                                                                 \n",
            " dropout_9 (Dropout)         (None, 2040)              0         \n",
            "                                                                 \n",
            " dense_11 (Dense)            (None, 1020)              2081820   \n",
            "                                                                 \n",
            " dropout_10 (Dropout)        (None, 1020)              0         \n",
            "                                                                 \n",
            " dropout_11 (Dropout)        (None, 1020)              0         \n",
            "                                                                 \n",
            " dense_12 (Dense)            (None, 1)                 1021      \n",
            "                                                                 \n",
            "=================================================================\n",
            "Total params: 27,780,721\n",
            "Trainable params: 27,780,721\n",
            "Non-trainable params: 0\n",
            "_________________________________________________________________\n",
            "Epoch 1/10\n",
            "263/263 [==============================] - 5s 15ms/step - loss: 2770.2156 - accuracy: 0.5135 - precision_1: 0.5138 - recall_1: 0.5018 - val_loss: 1.2085 - val_accuracy: 0.4648 - val_precision_1: 0.2776 - val_recall_1: 0.6131\n",
            "Epoch 2/10\n",
            "263/263 [==============================] - 3s 13ms/step - loss: 1.3726 - accuracy: 0.5312 - precision_1: 0.5260 - recall_1: 0.6316 - val_loss: 0.7160 - val_accuracy: 0.4342 - val_precision_1: 0.3030 - val_recall_1: 0.8419\n",
            "Epoch 3/10\n",
            "263/263 [==============================] - 3s 13ms/step - loss: 0.9101 - accuracy: 0.5406 - precision_1: 0.5237 - recall_1: 0.8979 - val_loss: 0.6932 - val_accuracy: 0.3714 - val_precision_1: 0.2938 - val_recall_1: 0.9460\n",
            "Epoch 4/10\n",
            "263/263 [==============================] - 4s 14ms/step - loss: 0.8028 - accuracy: 0.5441 - precision_1: 0.5243 - recall_1: 0.9491 - val_loss: 0.6824 - val_accuracy: 0.3697 - val_precision_1: 0.2939 - val_recall_1: 0.9512\n",
            "Epoch 5/10\n",
            "263/263 [==============================] - 4s 15ms/step - loss: 0.7524 - accuracy: 0.5405 - precision_1: 0.5220 - recall_1: 0.9623 - val_loss: 3.1812 - val_accuracy: 0.3336 - val_precision_1: 0.2852 - val_recall_1: 0.9743\n",
            "Epoch 6/10\n",
            "263/263 [==============================] - 4s 16ms/step - loss: 0.8985 - accuracy: 0.5358 - precision_1: 0.5193 - recall_1: 0.9625 - val_loss: 0.6992 - val_accuracy: 0.3527 - val_precision_1: 0.2878 - val_recall_1: 0.9473\n",
            "Epoch 7/10\n",
            "263/263 [==============================] - 3s 13ms/step - loss: 0.7983 - accuracy: 0.5279 - precision_1: 0.5158 - recall_1: 0.9121 - val_loss: 0.6973 - val_accuracy: 0.3148 - val_precision_1: 0.2808 - val_recall_1: 0.9846\n",
            "Epoch 8/10\n",
            "263/263 [==============================] - 3s 12ms/step - loss: 0.7963 - accuracy: 0.5271 - precision_1: 0.5145 - recall_1: 0.9623 - val_loss: 0.6879 - val_accuracy: 0.3173 - val_precision_1: 0.2814 - val_recall_1: 0.9833\n"
          ]
        }
      ],
      "source": [
        "model_train = train_base_model(n=4080, dropout=0.1, X_train=X_smote, y_train=y_smote, X_val= X_val, y_val=y_val)"
      ]
    },
    {
      "cell_type": "code",
      "execution_count": 17,
      "metadata": {
        "id": "tvB3dWGCowuj",
        "colab": {
          "base_uri": "https://localhost:8080/"
        },
        "outputId": "5e0e240e-77fc-4ba1-afad-80b67bb9ee7c"
      },
      "outputs": [
        {
          "output_type": "stream",
          "name": "stdout",
          "text": [
            "1052/1052 [==============================] - 2s 2ms/step\n",
            "91/91 [==============================] - 0s 2ms/step\n",
            "91/91 [==============================] - 0s 2ms/step\n"
          ]
        }
      ],
      "source": [
        "# Evaluating Train and Test\n",
        "train_pred_proba = model_train.predict(X_smote)\n",
        "train_pred = np.round(train_pred_proba)\n",
        "val_pred_proba = model_train.predict(X_val)\n",
        "val_pred = np.round(val_pred_proba)\n",
        "test_pred_proba = model_train.predict(X_test)\n",
        "test_pred = np.round(test_pred_proba)"
      ]
    },
    {
      "cell_type": "code",
      "source": [
        "print_statistics(y_smote, train_pred, train_pred_proba, 'train')\n",
        "print_statistics(y_val, val_pred, val_pred_proba, 'val')\n",
        "print_statistics(y_test, test_pred, test_pred_proba, 'test')"
      ],
      "metadata": {
        "colab": {
          "base_uri": "https://localhost:8080/"
        },
        "id": "9bRtoffJtptr",
        "outputId": "6d27c2e9-6302-4cf5-b3c9-0a3b4195c569"
      },
      "execution_count": 14,
      "outputs": [
        {
          "output_type": "stream",
          "name": "stdout",
          "text": [
            "=====================train====================\n",
            "accuracy: 0.54786\n",
            "precision: 0.52643\n",
            "recall: 0.95339\n",
            "f1 score: 0.67831\n",
            "pr auc score: 0.47793\n",
            "=====================val====================\n",
            "accuracy: 0.36272\n",
            "precision: 0.2914\n",
            "recall: 0.94987\n",
            "f1 score: 0.44599\n",
            "pr auc score: 0.15276\n",
            "=====================test====================\n",
            "accuracy: 0.36827\n",
            "precision: 0.29504\n",
            "recall: 0.96401\n",
            "f1 score: 0.45181\n",
            "pr auc score: 0.15283\n"
          ]
        }
      ]
    }
  ],
  "metadata": {
    "colab": {
      "collapsed_sections": [
        "3Km8iJxZJusT",
        "EfCCe_LlHQ26",
        "jOJOjYDPEAEQ",
        "jJO894KOQ9rF",
        "2a_4yQ6yQ7Z7",
        "J4PXaOgdQ3KT",
        "JOKh95FZa0Rj",
        "PKO8oiDZFDMD",
        "BW-6Vtr0hcrC",
        "hqjIvVswsPDp",
        "hoyCCfbwTMyA",
        "DmAlLNv6mw8Z"
      ],
      "provenance": [],
      "toc_visible": true
    },
    "kernelspec": {
      "display_name": "Python 3",
      "name": "python3"
    },
    "language_info": {
      "name": "python"
    },
    "gpuClass": "standard",
    "accelerator": "GPU"
  },
  "nbformat": 4,
  "nbformat_minor": 0
}